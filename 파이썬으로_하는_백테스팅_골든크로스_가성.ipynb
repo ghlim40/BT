{
  "nbformat": 4,
  "nbformat_minor": 0,
  "metadata": {
    "colab": {
      "name": " 파이썬으로 하는 백테스팅 - 골든크로스_가성 ",
      "provenance": [],
      "collapsed_sections": [],
      "authorship_tag": "ABX9TyPbpBHbix7dEalmmb3JNcIS",
      "include_colab_link": true
    },
    "kernelspec": {
      "name": "python3",
      "display_name": "Python 3"
    },
    "language_info": {
      "name": "python"
    }
  },
  "cells": [
    {
      "cell_type": "markdown",
      "metadata": {
        "id": "view-in-github",
        "colab_type": "text"
      },
      "source": [
        "<a href=\"https://colab.research.google.com/github/ghlim40/BT/blob/main/%ED%8C%8C%EC%9D%B4%EC%8D%AC%EC%9C%BC%EB%A1%9C_%ED%95%98%EB%8A%94_%EB%B0%B1%ED%85%8C%EC%8A%A4%ED%8C%85_%EA%B3%A8%EB%93%A0%ED%81%AC%EB%A1%9C%EC%8A%A4_%EA%B0%80%EC%84%B1.ipynb\" target=\"_parent\"><img src=\"https://colab.research.google.com/assets/colab-badge.svg\" alt=\"Open In Colab\"/></a>"
      ]
    },
    {
      "cell_type": "code",
      "execution_count": 5,
      "metadata": {
        "id": "gqDRxEn13zxZ"
      },
      "outputs": [],
      "source": [
        "#출처 https://www.youtube.com/watch?v=XNjY7p_0Xm4\n",
        "from pykrx import stock\n",
        "import numpy as np \n",
        "import pandas as pd\n",
        "from pandas import Series"
      ]
    },
    {
      "cell_type": "code",
      "source": [
        "def 장기_단기_이평선_수익률(df, Ns, Nl):\n",
        "    df = df[  [ '종가' ] ].copy()\n",
        "    df['ma_s'] = df['종가'].rolling( Ns ).mean( ).shift ( 1 )\n",
        "    df['ma_l'] = df['종가'].rolling( Nl ).mean( ).shift ( 1 )\n",
        "    cond = df['ma_s'] > df['ma_l']\n",
        "    df['status'] = np.where(cond, 1, 0)\n",
        "    df.iloc[-1, -1] = 0\n",
        "    \n",
        "    # 매수/매도 조건 \n",
        "    매수조건 = (df['status'] == 1) & (df['status'].shift(1) != 1)\n",
        "    매도조건 = (df['status'] == 0) & (df['status'].shift(1) == 1)\n",
        "    \n",
        "    # 수익률 계산\n",
        "    수익률 = df.loc[매도조건, '종가'].reset_index(drop=True) / df.loc[매수조건, '종가'].reset_index(drop=True)\n",
        "    수익률 = 수익률 - 0.002\n",
        "    return 수익률.cumprod().iloc[-1]"
      ],
      "metadata": {
        "id": "lrWY4J1b325Z"
      },
      "execution_count": 6,
      "outputs": []
    },
    {
      "cell_type": "code",
      "source": [
        "df = stock.get_index_ohlcv_by_date(\"20200601\", \"20210201\", \"1001\")\n",
        "df = df[  [ '종가' ] ]"
      ],
      "metadata": {
        "id": "ULplBJbF36C9"
      },
      "execution_count": 11,
      "outputs": []
    },
    {
      "cell_type": "code",
      "source": [
        "result = [ ]\n",
        "for i in range(2, 17):\n",
        "    for j in range(30, 61):\n",
        "        result.append(장기_단기_이평선_수익률(df, i, j))"
      ],
      "metadata": {
        "id": "AXFcoHE_38bQ"
      },
      "execution_count": 12,
      "outputs": []
    },
    {
      "cell_type": "code",
      "source": [
        "index = pd.MultiIndex.from_product([ range(2, 17), range(30, 61)  ])\n",
        "s = Series(result, index)"
      ],
      "metadata": {
        "id": "eYH8YUFa3-OS"
      },
      "execution_count": 13,
      "outputs": []
    },
    {
      "cell_type": "code",
      "source": [
        "print(s.idxmax())\n",
        "print(s.max())"
      ],
      "metadata": {
        "colab": {
          "base_uri": "https://localhost:8080/"
        },
        "id": "OCykzElU4AZ7",
        "outputId": "5e994892-c4cb-40bc-cea5-5a273834f557"
      },
      "execution_count": 14,
      "outputs": [
        {
          "output_type": "stream",
          "name": "stdout",
          "text": [
            "(14, 30)\n",
            "1.3702115535912045\n"
          ]
        }
      ]
    }
  ]
}