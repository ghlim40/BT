{
  "cells": [
    {
      "cell_type": "markdown",
      "metadata": {
        "id": "view-in-github",
        "colab_type": "text"
      },
      "source": [
        "<a href=\"https://colab.research.google.com/github/ghlim40/BT/blob/main/my_python_code.ipynb\" target=\"_parent\"><img src=\"https://colab.research.google.com/assets/colab-badge.svg\" alt=\"Open In Colab\"/></a>"
      ]
    },
    {
      "cell_type": "code",
      "execution_count": 1,
      "id": "b49d6a42-db4c-417c-a26d-dec6e497da1d",
      "metadata": {
        "id": "b49d6a42-db4c-417c-a26d-dec6e497da1d"
      },
      "outputs": [],
      "source": [
        "#라이브러리 설치"
      ]
    },
    {
      "cell_type": "code",
      "execution_count": 2,
      "id": "d03ae486-6acc-433e-8364-25577c624ece",
      "metadata": {
        "collapsed": true,
        "jupyter": {
          "outputs_hidden": true
        },
        "tags": [],
        "colab": {
          "base_uri": "https://localhost:8080/"
        },
        "id": "d03ae486-6acc-433e-8364-25577c624ece",
        "outputId": "927f4274-b79a-40f8-95bc-77e133f9b65e"
      },
      "outputs": [
        {
          "output_type": "stream",
          "name": "stdout",
          "text": [
            "Collecting pyupbit\n",
            "  Downloading pyupbit-0.2.22-py3-none-any.whl (21 kB)\n",
            "Collecting pyjwt>=2.0.0\n",
            "  Downloading PyJWT-2.3.0-py3-none-any.whl (16 kB)\n",
            "Requirement already satisfied: pandas in /usr/local/lib/python3.7/dist-packages (from pyupbit) (1.1.5)\n",
            "Collecting websockets==9.1\n",
            "  Downloading websockets-9.1-cp37-cp37m-manylinux2010_x86_64.whl (103 kB)\n",
            "\u001b[K     |████████████████████████████████| 103 kB 43.8 MB/s \n",
            "\u001b[?25hRequirement already satisfied: requests in /usr/local/lib/python3.7/dist-packages (from pyupbit) (2.23.0)\n",
            "Requirement already satisfied: pytz>=2017.2 in /usr/local/lib/python3.7/dist-packages (from pandas->pyupbit) (2018.9)\n",
            "Requirement already satisfied: python-dateutil>=2.7.3 in /usr/local/lib/python3.7/dist-packages (from pandas->pyupbit) (2.8.2)\n",
            "Requirement already satisfied: numpy>=1.15.4 in /usr/local/lib/python3.7/dist-packages (from pandas->pyupbit) (1.19.5)\n",
            "Requirement already satisfied: six>=1.5 in /usr/local/lib/python3.7/dist-packages (from python-dateutil>=2.7.3->pandas->pyupbit) (1.15.0)\n",
            "Requirement already satisfied: urllib3!=1.25.0,!=1.25.1,<1.26,>=1.21.1 in /usr/local/lib/python3.7/dist-packages (from requests->pyupbit) (1.24.3)\n",
            "Requirement already satisfied: idna<3,>=2.5 in /usr/local/lib/python3.7/dist-packages (from requests->pyupbit) (2.10)\n",
            "Requirement already satisfied: chardet<4,>=3.0.2 in /usr/local/lib/python3.7/dist-packages (from requests->pyupbit) (3.0.4)\n",
            "Requirement already satisfied: certifi>=2017.4.17 in /usr/local/lib/python3.7/dist-packages (from requests->pyupbit) (2021.10.8)\n",
            "Installing collected packages: websockets, pyjwt, pyupbit\n",
            "Successfully installed pyjwt-2.3.0 pyupbit-0.2.22 websockets-9.1\n",
            "Collecting datetime\n",
            "  Downloading DateTime-4.3-py2.py3-none-any.whl (60 kB)\n",
            "\u001b[K     |████████████████████████████████| 60 kB 5.1 MB/s \n",
            "\u001b[?25hCollecting zope.interface\n",
            "  Downloading zope.interface-5.4.0-cp37-cp37m-manylinux2010_x86_64.whl (251 kB)\n",
            "\u001b[K     |████████████████████████████████| 251 kB 29.9 MB/s \n",
            "\u001b[?25hRequirement already satisfied: pytz in /usr/local/lib/python3.7/dist-packages (from datetime) (2018.9)\n",
            "Requirement already satisfied: setuptools in /usr/local/lib/python3.7/dist-packages (from zope.interface->datetime) (57.4.0)\n",
            "Installing collected packages: zope.interface, datetime\n",
            "Successfully installed datetime-4.3 zope.interface-5.4.0\n",
            "Requirement already satisfied: numpy in /usr/local/lib/python3.7/dist-packages (1.19.5)\n",
            "Requirement already satisfied: pyjwt in /usr/local/lib/python3.7/dist-packages (2.3.0)\n",
            "Requirement already satisfied: datetime in /usr/local/lib/python3.7/dist-packages (4.3)\n",
            "Requirement already satisfied: pytz in /usr/local/lib/python3.7/dist-packages (from datetime) (2018.9)\n",
            "Requirement already satisfied: zope.interface in /usr/local/lib/python3.7/dist-packages (from datetime) (5.4.0)\n",
            "Requirement already satisfied: setuptools in /usr/local/lib/python3.7/dist-packages (from zope.interface->datetime) (57.4.0)\n",
            "Collecting schedule\n",
            "  Downloading schedule-1.1.0-py2.py3-none-any.whl (10 kB)\n",
            "Installing collected packages: schedule\n",
            "Successfully installed schedule-1.1.0\n",
            "Collecting Prophet\n",
            "  Downloading prophet-1.0.1.tar.gz (65 kB)\n",
            "\u001b[K     |████████████████████████████████| 65 kB 3.2 MB/s \n",
            "\u001b[?25hRequirement already satisfied: Cython>=0.22 in /usr/local/lib/python3.7/dist-packages (from Prophet) (0.29.26)\n",
            "Collecting cmdstanpy==0.9.68\n",
            "  Downloading cmdstanpy-0.9.68-py3-none-any.whl (49 kB)\n",
            "\u001b[K     |████████████████████████████████| 49 kB 5.2 MB/s \n",
            "\u001b[?25hRequirement already satisfied: pystan~=2.19.1.1 in /usr/local/lib/python3.7/dist-packages (from Prophet) (2.19.1.1)\n",
            "Requirement already satisfied: numpy>=1.15.4 in /usr/local/lib/python3.7/dist-packages (from Prophet) (1.19.5)\n",
            "Requirement already satisfied: pandas>=1.0.4 in /usr/local/lib/python3.7/dist-packages (from Prophet) (1.1.5)\n",
            "Requirement already satisfied: matplotlib>=2.0.0 in /usr/local/lib/python3.7/dist-packages (from Prophet) (3.2.2)\n",
            "Requirement already satisfied: LunarCalendar>=0.0.9 in /usr/local/lib/python3.7/dist-packages (from Prophet) (0.0.9)\n",
            "Requirement already satisfied: convertdate>=2.1.2 in /usr/local/lib/python3.7/dist-packages (from Prophet) (2.3.2)\n",
            "Requirement already satisfied: holidays>=0.10.2 in /usr/local/lib/python3.7/dist-packages (from Prophet) (0.10.5.2)\n",
            "Requirement already satisfied: setuptools-git>=1.2 in /usr/local/lib/python3.7/dist-packages (from Prophet) (1.2)\n",
            "Requirement already satisfied: python-dateutil>=2.8.0 in /usr/local/lib/python3.7/dist-packages (from Prophet) (2.8.2)\n",
            "Requirement already satisfied: tqdm>=4.36.1 in /usr/local/lib/python3.7/dist-packages (from Prophet) (4.62.3)\n",
            "Collecting ujson\n",
            "  Downloading ujson-5.1.0-cp37-cp37m-manylinux_2_17_x86_64.manylinux2014_x86_64.whl (43 kB)\n",
            "\u001b[K     |████████████████████████████████| 43 kB 2.2 MB/s \n",
            "\u001b[?25hRequirement already satisfied: pymeeus<=1,>=0.3.13 in /usr/local/lib/python3.7/dist-packages (from convertdate>=2.1.2->Prophet) (0.5.11)\n",
            "Requirement already satisfied: pytz>=2014.10 in /usr/local/lib/python3.7/dist-packages (from convertdate>=2.1.2->Prophet) (2018.9)\n",
            "Requirement already satisfied: hijri-converter in /usr/local/lib/python3.7/dist-packages (from holidays>=0.10.2->Prophet) (2.2.2)\n",
            "Requirement already satisfied: korean-lunar-calendar in /usr/local/lib/python3.7/dist-packages (from holidays>=0.10.2->Prophet) (0.2.1)\n",
            "Requirement already satisfied: six in /usr/local/lib/python3.7/dist-packages (from holidays>=0.10.2->Prophet) (1.15.0)\n",
            "Requirement already satisfied: ephem>=3.7.5.3 in /usr/local/lib/python3.7/dist-packages (from LunarCalendar>=0.0.9->Prophet) (4.1.3)\n",
            "Requirement already satisfied: kiwisolver>=1.0.1 in /usr/local/lib/python3.7/dist-packages (from matplotlib>=2.0.0->Prophet) (1.3.2)\n",
            "Requirement already satisfied: pyparsing!=2.0.4,!=2.1.2,!=2.1.6,>=2.0.1 in /usr/local/lib/python3.7/dist-packages (from matplotlib>=2.0.0->Prophet) (3.0.6)\n",
            "Requirement already satisfied: cycler>=0.10 in /usr/local/lib/python3.7/dist-packages (from matplotlib>=2.0.0->Prophet) (0.11.0)\n",
            "Building wheels for collected packages: Prophet\n",
            "  Building wheel for Prophet (setup.py) ... \u001b[?25l\u001b[?25hdone\n",
            "  Created wheel for Prophet: filename=prophet-1.0.1-py3-none-any.whl size=6639386 sha256=a239a2e2c2d417f3348fc777807580f0064d2b54f9ce727a355712f288271b21\n",
            "  Stored in directory: /root/.cache/pip/wheels/4e/a0/1a/02c9ec9e3e9de6bdbb3d769d11992a6926889d71567d6b9b67\n",
            "Successfully built Prophet\n",
            "Installing collected packages: ujson, cmdstanpy, Prophet\n",
            "  Attempting uninstall: cmdstanpy\n",
            "    Found existing installation: cmdstanpy 0.9.5\n",
            "    Uninstalling cmdstanpy-0.9.5:\n",
            "      Successfully uninstalled cmdstanpy-0.9.5\n",
            "\u001b[31mERROR: pip's dependency resolver does not currently take into account all the packages that are installed. This behaviour is the source of the following dependency conflicts.\n",
            "fbprophet 0.7.1 requires cmdstanpy==0.9.5, but you have cmdstanpy 0.9.68 which is incompatible.\u001b[0m\n",
            "Successfully installed Prophet-1.0.1 cmdstanpy-0.9.68 ujson-5.1.0\n"
          ]
        }
      ],
      "source": [
        "!pip install pyupbit\n",
        "!pip install datetime\n",
        "!pip install numpy\n",
        "!pip install pyjwt\n",
        "!pip install datetime\n",
        "!pip install schedule\n",
        "!pip install Prophet"
      ]
    },
    {
      "cell_type": "code",
      "execution_count": null,
      "id": "3cfe547b-77b4-44e1-8eeb-cecb1a6882df",
      "metadata": {
        "id": "3cfe547b-77b4-44e1-8eeb-cecb1a6882df"
      },
      "outputs": [],
      "source": [
        "#라이브러리 임포트"
      ]
    },
    {
      "cell_type": "code",
      "execution_count": 3,
      "id": "fc1de1a5-751a-49f4-ab18-699a0632e816",
      "metadata": {
        "id": "fc1de1a5-751a-49f4-ab18-699a0632e816"
      },
      "outputs": [],
      "source": [
        "import pyupbit\n",
        "import datetime\n",
        "import time, calendar\n",
        "import numpy as np\n",
        "import datetime\n",
        "import schedule\n",
        "from fbprophet import Prophet"
      ]
    },
    {
      "cell_type": "code",
      "execution_count": 5,
      "id": "34cf99cb-3abb-40d1-9ba9-f1938569f5d0",
      "metadata": {
        "id": "34cf99cb-3abb-40d1-9ba9-f1938569f5d0"
      },
      "outputs": [],
      "source": [
        "# set variables\n",
        "coin = \"KRW-BTC\"   # 매매를 진행할 가상화폐의 ticker\n",
        "fees = 0.0005      # 수수료"
      ]
    },
    {
      "cell_type": "code",
      "execution_count": 6,
      "id": "ea3db7f8-e54c-4351-af51-45fd14fb4c50",
      "metadata": {
        "id": "ea3db7f8-e54c-4351-af51-45fd14fb4c50"
      },
      "outputs": [],
      "source": [
        "#access key & secret key"
      ]
    },
    {
      "cell_type": "code",
      "execution_count": 7,
      "id": "9d29540a-ad81-45cb-9019-763dc7679588",
      "metadata": {
        "id": "9d29540a-ad81-45cb-9019-763dc7679588"
      },
      "outputs": [],
      "source": [
        "access = \"your-access\"\n",
        "secret = \"your-secret\""
      ]
    },
    {
      "cell_type": "code",
      "execution_count": 8,
      "id": "747e83b8-d6ce-46c5-a978-fb6f39c4867d",
      "metadata": {
        "id": "747e83b8-d6ce-46c5-a978-fb6f39c4867d"
      },
      "outputs": [],
      "source": [
        "#목표 가격 측정"
      ]
    },
    {
      "cell_type": "code",
      "execution_count": 9,
      "id": "cd8298e6-1df5-450f-a22b-bec42323cf5e",
      "metadata": {
        "id": "cd8298e6-1df5-450f-a22b-bec42323cf5e"
      },
      "outputs": [],
      "source": [
        "# -1은 오늘, -2는 어제데이터\n",
        "def get_targetPrice(df, K) :\n",
        "    range = df['high'][-2] - df['low'][-2] #전일 고가와 전일 저가의 차이값\n",
        "    return df['open'][-1] + range * K #당일 시가 + range값에 상수k를 곱하여 더함"
      ]
    },
    {
      "cell_type": "code",
      "execution_count": 10,
      "id": "1081e0d2-ab7a-43b3-a2db-e0abfbb89cd1",
      "metadata": {
        "id": "1081e0d2-ab7a-43b3-a2db-e0abfbb89cd1"
      },
      "outputs": [],
      "source": [
        "#코인 구매기능"
      ]
    },
    {
      "cell_type": "code",
      "execution_count": 11,
      "id": "2fc2b8d4-340d-4316-972e-c4cdd92043ac",
      "metadata": {
        "id": "2fc2b8d4-340d-4316-972e-c4cdd92043ac"
      },
      "outputs": [],
      "source": [
        "def buy_all(coin) :\n",
        "    #get_balance : 보유중인 잔고 조회\n",
        "    balance = upbit.get_balance(\"KRW\") * 0.9995\n",
        "    \n",
        "    #업비트 최소 주문금액이 5000원 이상\n",
        "    if balance >= 5000 : \n",
        "        print(upbit.buy_market_order(coin, balance))"
      ]
    },
    {
      "cell_type": "code",
      "execution_count": 12,
      "id": "99f5d7b9-815d-4d43-b69e-9c59ca8f05fc",
      "metadata": {
        "id": "99f5d7b9-815d-4d43-b69e-9c59ca8f05fc"
      },
      "outputs": [],
      "source": [
        "#코인 판매기능"
      ]
    },
    {
      "cell_type": "code",
      "execution_count": 13,
      "id": "0ea45df5-46d9-4f16-9c98-50a9e4142510",
      "metadata": {
        "id": "0ea45df5-46d9-4f16-9c98-50a9e4142510"
      },
      "outputs": [],
      "source": [
        "def sell_all(coin) :\n",
        "    balance = upbit.get_balance(coin)\n",
        "    price = pyupbit.get_current_price(coin)\n",
        "    \n",
        "    #업비트 최소 주문금액이 5000원 이상\n",
        "    if price * balance >= 5000 : \n",
        "        print(upbit.sell_market_order(coin, balance))\n"
      ]
    },
    {
      "cell_type": "code",
      "execution_count": 14,
      "id": "37ea8cf4-15ec-4601-aecb-229770504142",
      "metadata": {
        "id": "37ea8cf4-15ec-4601-aecb-229770504142"
      },
      "outputs": [],
      "source": [
        "#누적수익률 반환"
      ]
    },
    {
      "cell_type": "code",
      "execution_count": 15,
      "id": "650adce7-5f3a-4905-b69d-b55ada1f229b",
      "metadata": {
        "id": "650adce7-5f3a-4905-b69d-b55ada1f229b"
      },
      "outputs": [],
      "source": [
        "# drr = Daily Rate Of Return 하루수익률\n",
        "# crr = Cumulative Rate Of Return 누적수익률\n",
        "# mdd = Max Draw Down, dd = Draw Down 손해율\n",
        "\n",
        "def get_crr(df, fees, K) :\n",
        "    df['range'] = df['high'].shift(1) - df['low'].shift(1)\n",
        "    df['targetPrice'] = df['open'] + df['range'] * K\n",
        "    df['drr'] = np.where(df['high'] > df['targetPrice'], (df['close'] / (1 + fees)) / (df['targetPrice'] * (1 + fees)) , 1)\n",
        "    return df['drr'].cumprod()[-2]"
      ]
    },
    {
      "cell_type": "code",
      "execution_count": 16,
      "id": "7393d193-db4b-4cec-99f6-9486929e0a71",
      "metadata": {
        "id": "7393d193-db4b-4cec-99f6-9486929e0a71"
      },
      "outputs": [],
      "source": [
        "#해당 일자의 가장 적절한 K값 선정"
      ]
    },
    {
      "cell_type": "code",
      "execution_count": 17,
      "id": "73481068-c4d6-429f-94f7-cc4912af1537",
      "metadata": {
        "id": "73481068-c4d6-429f-94f7-cc4912af1537"
      },
      "outputs": [],
      "source": [
        "def get_best_K(coin, fees) :\n",
        "    df = pyupbit.get_ohlcv(coin, interval = \"day\", count = 21)\n",
        "    max_crr = 0\n",
        "    best_K = 0.5\n",
        "    for k in np.arange(0.0, 1.0, 0.1) :\n",
        "        crr = get_crr(df, fees, k)\n",
        "        if crr > max_crr :\n",
        "            max_crr = crr\n",
        "            best_K = k\n",
        "    return best_K"
      ]
    },
    {
      "cell_type": "code",
      "execution_count": 18,
      "id": "275be94f-bc69-4d6b-a02e-505131562ca9",
      "metadata": {
        "id": "275be94f-bc69-4d6b-a02e-505131562ca9"
      },
      "outputs": [],
      "source": [
        "#미래가 예측"
      ]
    },
    {
      "cell_type": "code",
      "execution_count": 19,
      "id": "29d089ea-94b6-4012-bb31-53677cf95f2c",
      "metadata": {
        "colab": {
          "base_uri": "https://localhost:8080/",
          "height": 424
        },
        "id": "29d089ea-94b6-4012-bb31-53677cf95f2c",
        "outputId": "653d5f12-06b4-497c-8827-675a40702b53"
      },
      "outputs": [
        {
          "output_type": "execute_result",
          "data": {
            "text/html": [
              "\n",
              "  <div id=\"df-0123a3b0-52dd-4ef3-a214-f905b66ef830\">\n",
              "    <div class=\"colab-df-container\">\n",
              "      <div>\n",
              "<style scoped>\n",
              "    .dataframe tbody tr th:only-of-type {\n",
              "        vertical-align: middle;\n",
              "    }\n",
              "\n",
              "    .dataframe tbody tr th {\n",
              "        vertical-align: top;\n",
              "    }\n",
              "\n",
              "    .dataframe thead th {\n",
              "        text-align: right;\n",
              "    }\n",
              "</style>\n",
              "<table border=\"1\" class=\"dataframe\">\n",
              "  <thead>\n",
              "    <tr style=\"text-align: right;\">\n",
              "      <th></th>\n",
              "      <th>ds</th>\n",
              "      <th>y</th>\n",
              "    </tr>\n",
              "  </thead>\n",
              "  <tbody>\n",
              "    <tr>\n",
              "      <th>0</th>\n",
              "      <td>2022-01-04 06:00:00</td>\n",
              "      <td>56276000.0</td>\n",
              "    </tr>\n",
              "    <tr>\n",
              "      <th>1</th>\n",
              "      <td>2022-01-04 07:00:00</td>\n",
              "      <td>56410000.0</td>\n",
              "    </tr>\n",
              "    <tr>\n",
              "      <th>2</th>\n",
              "      <td>2022-01-04 08:00:00</td>\n",
              "      <td>56641000.0</td>\n",
              "    </tr>\n",
              "    <tr>\n",
              "      <th>3</th>\n",
              "      <td>2022-01-04 09:00:00</td>\n",
              "      <td>56430000.0</td>\n",
              "    </tr>\n",
              "    <tr>\n",
              "      <th>4</th>\n",
              "      <td>2022-01-04 10:00:00</td>\n",
              "      <td>56132000.0</td>\n",
              "    </tr>\n",
              "    <tr>\n",
              "      <th>...</th>\n",
              "      <td>...</td>\n",
              "      <td>...</td>\n",
              "    </tr>\n",
              "    <tr>\n",
              "      <th>195</th>\n",
              "      <td>2022-01-12 09:00:00</td>\n",
              "      <td>52057000.0</td>\n",
              "    </tr>\n",
              "    <tr>\n",
              "      <th>196</th>\n",
              "      <td>2022-01-12 10:00:00</td>\n",
              "      <td>52007000.0</td>\n",
              "    </tr>\n",
              "    <tr>\n",
              "      <th>197</th>\n",
              "      <td>2022-01-12 11:00:00</td>\n",
              "      <td>51847000.0</td>\n",
              "    </tr>\n",
              "    <tr>\n",
              "      <th>198</th>\n",
              "      <td>2022-01-12 12:00:00</td>\n",
              "      <td>51821000.0</td>\n",
              "    </tr>\n",
              "    <tr>\n",
              "      <th>199</th>\n",
              "      <td>2022-01-12 13:00:00</td>\n",
              "      <td>51804000.0</td>\n",
              "    </tr>\n",
              "  </tbody>\n",
              "</table>\n",
              "<p>200 rows × 2 columns</p>\n",
              "</div>\n",
              "      <button class=\"colab-df-convert\" onclick=\"convertToInteractive('df-0123a3b0-52dd-4ef3-a214-f905b66ef830')\"\n",
              "              title=\"Convert this dataframe to an interactive table.\"\n",
              "              style=\"display:none;\">\n",
              "        \n",
              "  <svg xmlns=\"http://www.w3.org/2000/svg\" height=\"24px\"viewBox=\"0 0 24 24\"\n",
              "       width=\"24px\">\n",
              "    <path d=\"M0 0h24v24H0V0z\" fill=\"none\"/>\n",
              "    <path d=\"M18.56 5.44l.94 2.06.94-2.06 2.06-.94-2.06-.94-.94-2.06-.94 2.06-2.06.94zm-11 1L8.5 8.5l.94-2.06 2.06-.94-2.06-.94L8.5 2.5l-.94 2.06-2.06.94zm10 10l.94 2.06.94-2.06 2.06-.94-2.06-.94-.94-2.06-.94 2.06-2.06.94z\"/><path d=\"M17.41 7.96l-1.37-1.37c-.4-.4-.92-.59-1.43-.59-.52 0-1.04.2-1.43.59L10.3 9.45l-7.72 7.72c-.78.78-.78 2.05 0 2.83L4 21.41c.39.39.9.59 1.41.59.51 0 1.02-.2 1.41-.59l7.78-7.78 2.81-2.81c.8-.78.8-2.07 0-2.86zM5.41 20L4 18.59l7.72-7.72 1.47 1.35L5.41 20z\"/>\n",
              "  </svg>\n",
              "      </button>\n",
              "      \n",
              "  <style>\n",
              "    .colab-df-container {\n",
              "      display:flex;\n",
              "      flex-wrap:wrap;\n",
              "      gap: 12px;\n",
              "    }\n",
              "\n",
              "    .colab-df-convert {\n",
              "      background-color: #E8F0FE;\n",
              "      border: none;\n",
              "      border-radius: 50%;\n",
              "      cursor: pointer;\n",
              "      display: none;\n",
              "      fill: #1967D2;\n",
              "      height: 32px;\n",
              "      padding: 0 0 0 0;\n",
              "      width: 32px;\n",
              "    }\n",
              "\n",
              "    .colab-df-convert:hover {\n",
              "      background-color: #E2EBFA;\n",
              "      box-shadow: 0px 1px 2px rgba(60, 64, 67, 0.3), 0px 1px 3px 1px rgba(60, 64, 67, 0.15);\n",
              "      fill: #174EA6;\n",
              "    }\n",
              "\n",
              "    [theme=dark] .colab-df-convert {\n",
              "      background-color: #3B4455;\n",
              "      fill: #D2E3FC;\n",
              "    }\n",
              "\n",
              "    [theme=dark] .colab-df-convert:hover {\n",
              "      background-color: #434B5C;\n",
              "      box-shadow: 0px 1px 3px 1px rgba(0, 0, 0, 0.15);\n",
              "      filter: drop-shadow(0px 1px 2px rgba(0, 0, 0, 0.3));\n",
              "      fill: #FFFFFF;\n",
              "    }\n",
              "  </style>\n",
              "\n",
              "      <script>\n",
              "        const buttonEl =\n",
              "          document.querySelector('#df-0123a3b0-52dd-4ef3-a214-f905b66ef830 button.colab-df-convert');\n",
              "        buttonEl.style.display =\n",
              "          google.colab.kernel.accessAllowed ? 'block' : 'none';\n",
              "\n",
              "        async function convertToInteractive(key) {\n",
              "          const element = document.querySelector('#df-0123a3b0-52dd-4ef3-a214-f905b66ef830');\n",
              "          const dataTable =\n",
              "            await google.colab.kernel.invokeFunction('convertToInteractive',\n",
              "                                                     [key], {});\n",
              "          if (!dataTable) return;\n",
              "\n",
              "          const docLinkHtml = 'Like what you see? Visit the ' +\n",
              "            '<a target=\"_blank\" href=https://colab.research.google.com/notebooks/data_table.ipynb>data table notebook</a>'\n",
              "            + ' to learn more about interactive tables.';\n",
              "          element.innerHTML = '';\n",
              "          dataTable['output_type'] = 'display_data';\n",
              "          await google.colab.output.renderOutput(dataTable, element);\n",
              "          const docLink = document.createElement('div');\n",
              "          docLink.innerHTML = docLinkHtml;\n",
              "          element.appendChild(docLink);\n",
              "        }\n",
              "      </script>\n",
              "    </div>\n",
              "  </div>\n",
              "  "
            ],
            "text/plain": [
              "                     ds           y\n",
              "0   2022-01-04 06:00:00  56276000.0\n",
              "1   2022-01-04 07:00:00  56410000.0\n",
              "2   2022-01-04 08:00:00  56641000.0\n",
              "3   2022-01-04 09:00:00  56430000.0\n",
              "4   2022-01-04 10:00:00  56132000.0\n",
              "..                  ...         ...\n",
              "195 2022-01-12 09:00:00  52057000.0\n",
              "196 2022-01-12 10:00:00  52007000.0\n",
              "197 2022-01-12 11:00:00  51847000.0\n",
              "198 2022-01-12 12:00:00  51821000.0\n",
              "199 2022-01-12 13:00:00  51804000.0\n",
              "\n",
              "[200 rows x 2 columns]"
            ]
          },
          "metadata": {},
          "execution_count": 19
        }
      ],
      "source": [
        "df_predict = pyupbit.get_ohlcv(coin, interval=\"minute60\")\n",
        "df_predict\n",
        "\n",
        "df_predict = df_predict.reset_index()\n",
        "df_predict['ds'] = df_predict['index']\n",
        "df_predict['y'] = df_predict['close']\n",
        "data_predict = df_predict[['ds','y']]\n",
        "data_predict"
      ]
    },
    {
      "cell_type": "code",
      "execution_count": 20,
      "id": "cc03aa53-b007-4c0d-ba2b-72fe56c46296",
      "metadata": {
        "id": "cc03aa53-b007-4c0d-ba2b-72fe56c46296"
      },
      "outputs": [],
      "source": [
        "#학습"
      ]
    },
    {
      "cell_type": "code",
      "execution_count": 21,
      "id": "d757d0fe-97a2-4305-b347-3356522907e1",
      "metadata": {
        "colab": {
          "base_uri": "https://localhost:8080/"
        },
        "id": "d757d0fe-97a2-4305-b347-3356522907e1",
        "outputId": "dbc38cbb-1ccf-437b-af9e-eae391e53441"
      },
      "outputs": [
        {
          "output_type": "stream",
          "name": "stderr",
          "text": [
            "INFO:numexpr.utils:NumExpr defaulting to 2 threads.\n",
            "INFO:fbprophet:Disabling yearly seasonality. Run prophet with yearly_seasonality=True to override this.\n",
            "INFO:fbprophet:Disabling weekly seasonality. Run prophet with weekly_seasonality=True to override this.\n"
          ]
        },
        {
          "output_type": "execute_result",
          "data": {
            "text/plain": [
              "<fbprophet.forecaster.Prophet at 0x7fdf7c8f4850>"
            ]
          },
          "metadata": {},
          "execution_count": 21
        }
      ],
      "source": [
        "model = Prophet()\n",
        "model.fit(data_predict)"
      ]
    },
    {
      "cell_type": "code",
      "execution_count": 22,
      "id": "58a7037a-672f-4db5-9ec7-0bd760b37936",
      "metadata": {
        "id": "58a7037a-672f-4db5-9ec7-0bd760b37936"
      },
      "outputs": [],
      "source": [
        "#24시간 미래 예측"
      ]
    },
    {
      "cell_type": "code",
      "execution_count": 23,
      "id": "de63f745-0819-48f1-9c88-af729dbaa0cb",
      "metadata": {
        "id": "de63f745-0819-48f1-9c88-af729dbaa0cb"
      },
      "outputs": [],
      "source": [
        "future = model.make_future_dataframe(periods=24, freq='H')\n",
        "forecast = model.predict(future)"
      ]
    },
    {
      "cell_type": "code",
      "execution_count": 24,
      "id": "e2262d0b-cfb9-487c-b72e-8af2ff0268f9",
      "metadata": {
        "colab": {
          "base_uri": "https://localhost:8080/",
          "height": 441
        },
        "id": "e2262d0b-cfb9-487c-b72e-8af2ff0268f9",
        "outputId": "72fd04f6-dc3f-4e6c-e015-ceaf6af18885"
      },
      "outputs": [
        {
          "output_type": "display_data",
          "data": {
            "image/png": "[encoded data removed]",
            "text/plain": [
              "<Figure size 720x432 with 1 Axes>"
            ]
          },
          "metadata": {}
        }
      ],
      "source": [
        "#그래프1\n",
        "fig1 = model.plot(forecast)"
      ]
    },
    {
      "cell_type": "code",
      "execution_count": 25,
      "id": "c46ab483-23a7-4e4d-a533-05862cbd0e55",
      "metadata": {
        "colab": {
          "base_uri": "https://localhost:8080/",
          "height": 441
        },
        "id": "c46ab483-23a7-4e4d-a533-05862cbd0e55",
        "outputId": "6572979c-fb6e-459f-afbe-8f0a7491b30a"
      },
      "outputs": [
        {
          "output_type": "display_data",
          "data": {
            "image/png": "[encoded data removed]",
            "text/plain": [
              "<Figure size 648x432 with 2 Axes>"
            ]
          },
          "metadata": {}
        }
      ],
      "source": [
        "#그래프2\n",
        "fig2 = model.plot_components(forecast)"
      ]
    },
    {
      "cell_type": "code",
      "execution_count": 28,
      "id": "4ee32c94-b945-4be5-824d-ef77dce5f6b8",
      "metadata": {
        "id": "4ee32c94-b945-4be5-824d-ef77dce5f6b8"
      },
      "outputs": [],
      "source": [
        "#매수 시점의 가격\n",
        "nowValue = pyupbit.get_current_price(coin)\n",
        "nowValue\n",
        "\n",
        "#종가의 가격을 구함\n",
        "\n",
        "#현재 시간이 자정 이전\n",
        "closeDf = forecast[forecast['ds'] == forecast.iloc[-1]['ds'].replace(hour=9)]\n",
        "\n",
        "#현재 시간이 자정 이후\n",
        "if len(closeDf) == 0:\n",
        "  closeDf = forecast[forecast['ds'] == data_predict.iloc[-1]['ds'].replace(hour=9)]\n",
        "\n",
        "#어쨋든 당일 종가\n",
        "closeValue = closeDf['yhat'].values[0]"
      ]
    },
    {
      "cell_type": "code",
      "execution_count": 27,
      "id": "5720bdd2-d6cb-4207-9a2a-d718b7f84d20",
      "metadata": {
        "colab": {
          "base_uri": "https://localhost:8080/",
          "height": 699
        },
        "id": "5720bdd2-d6cb-4207-9a2a-d718b7f84d20",
        "outputId": "7ea56161-d473-4497-d19f-70e7ffd52587"
      },
      "outputs": [
        {
          "output_type": "stream",
          "name": "stdout",
          "text": [
            "현재 시점 가격:  51810000.0\n",
            "종가의 가격:  52531404.29780752\n"
          ]
        },
        {
          "output_type": "execute_result",
          "data": {
            "text/html": [
              "\n",
              "  <div id=\"df-0c16cdba-477b-44ca-bee3-b2891f32ca7e\">\n",
              "    <div class=\"colab-df-container\">\n",
              "      <div>\n",
              "<style scoped>\n",
              "    .dataframe tbody tr th:only-of-type {\n",
              "        vertical-align: middle;\n",
              "    }\n",
              "\n",
              "    .dataframe tbody tr th {\n",
              "        vertical-align: top;\n",
              "    }\n",
              "\n",
              "    .dataframe thead th {\n",
              "        text-align: right;\n",
              "    }\n",
              "</style>\n",
              "<table border=\"1\" class=\"dataframe\">\n",
              "  <thead>\n",
              "    <tr style=\"text-align: right;\">\n",
              "      <th></th>\n",
              "      <th>ds</th>\n",
              "      <th>trend</th>\n",
              "      <th>yhat_lower</th>\n",
              "      <th>yhat_upper</th>\n",
              "      <th>trend_lower</th>\n",
              "      <th>trend_upper</th>\n",
              "      <th>additive_terms</th>\n",
              "      <th>additive_terms_lower</th>\n",
              "      <th>additive_terms_upper</th>\n",
              "      <th>daily</th>\n",
              "      <th>daily_lower</th>\n",
              "      <th>daily_upper</th>\n",
              "      <th>multiplicative_terms</th>\n",
              "      <th>multiplicative_terms_lower</th>\n",
              "      <th>multiplicative_terms_upper</th>\n",
              "      <th>yhat</th>\n",
              "    </tr>\n",
              "  </thead>\n",
              "  <tbody>\n",
              "    <tr>\n",
              "      <th>0</th>\n",
              "      <td>2022-01-04 06:00:00</td>\n",
              "      <td>5.643799e+07</td>\n",
              "      <td>5.595987e+07</td>\n",
              "      <td>5.698639e+07</td>\n",
              "      <td>5.643799e+07</td>\n",
              "      <td>5.643799e+07</td>\n",
              "      <td>28620.065544</td>\n",
              "      <td>28620.065544</td>\n",
              "      <td>28620.065544</td>\n",
              "      <td>28620.065544</td>\n",
              "      <td>28620.065544</td>\n",
              "      <td>28620.065544</td>\n",
              "      <td>0.0</td>\n",
              "      <td>0.0</td>\n",
              "      <td>0.0</td>\n",
              "      <td>5.646661e+07</td>\n",
              "    </tr>\n",
              "    <tr>\n",
              "      <th>1</th>\n",
              "      <td>2022-01-04 07:00:00</td>\n",
              "      <td>5.644802e+07</td>\n",
              "      <td>5.600196e+07</td>\n",
              "      <td>5.697746e+07</td>\n",
              "      <td>5.644802e+07</td>\n",
              "      <td>5.644802e+07</td>\n",
              "      <td>39549.288615</td>\n",
              "      <td>39549.288615</td>\n",
              "      <td>39549.288615</td>\n",
              "      <td>39549.288615</td>\n",
              "      <td>39549.288615</td>\n",
              "      <td>39549.288615</td>\n",
              "      <td>0.0</td>\n",
              "      <td>0.0</td>\n",
              "      <td>0.0</td>\n",
              "      <td>5.648757e+07</td>\n",
              "    </tr>\n",
              "    <tr>\n",
              "      <th>2</th>\n",
              "      <td>2022-01-04 08:00:00</td>\n",
              "      <td>5.645806e+07</td>\n",
              "      <td>5.605850e+07</td>\n",
              "      <td>5.703147e+07</td>\n",
              "      <td>5.645806e+07</td>\n",
              "      <td>5.645806e+07</td>\n",
              "      <td>66378.149798</td>\n",
              "      <td>66378.149798</td>\n",
              "      <td>66378.149798</td>\n",
              "      <td>66378.149798</td>\n",
              "      <td>66378.149798</td>\n",
              "      <td>66378.149798</td>\n",
              "      <td>0.0</td>\n",
              "      <td>0.0</td>\n",
              "      <td>0.0</td>\n",
              "      <td>5.652444e+07</td>\n",
              "    </tr>\n",
              "    <tr>\n",
              "      <th>3</th>\n",
              "      <td>2022-01-04 09:00:00</td>\n",
              "      <td>5.646810e+07</td>\n",
              "      <td>5.603099e+07</td>\n",
              "      <td>5.699500e+07</td>\n",
              "      <td>5.646810e+07</td>\n",
              "      <td>5.646810e+07</td>\n",
              "      <td>78470.953127</td>\n",
              "      <td>78470.953127</td>\n",
              "      <td>78470.953127</td>\n",
              "      <td>78470.953127</td>\n",
              "      <td>78470.953127</td>\n",
              "      <td>78470.953127</td>\n",
              "      <td>0.0</td>\n",
              "      <td>0.0</td>\n",
              "      <td>0.0</td>\n",
              "      <td>5.654657e+07</td>\n",
              "    </tr>\n",
              "    <tr>\n",
              "      <th>4</th>\n",
              "      <td>2022-01-04 10:00:00</td>\n",
              "      <td>5.647814e+07</td>\n",
              "      <td>5.604560e+07</td>\n",
              "      <td>5.701248e+07</td>\n",
              "      <td>5.647814e+07</td>\n",
              "      <td>5.647814e+07</td>\n",
              "      <td>51957.108292</td>\n",
              "      <td>51957.108292</td>\n",
              "      <td>51957.108292</td>\n",
              "      <td>51957.108292</td>\n",
              "      <td>51957.108292</td>\n",
              "      <td>51957.108292</td>\n",
              "      <td>0.0</td>\n",
              "      <td>0.0</td>\n",
              "      <td>0.0</td>\n",
              "      <td>5.653009e+07</td>\n",
              "    </tr>\n",
              "    <tr>\n",
              "      <th>...</th>\n",
              "      <td>...</td>\n",
              "      <td>...</td>\n",
              "      <td>...</td>\n",
              "      <td>...</td>\n",
              "      <td>...</td>\n",
              "      <td>...</td>\n",
              "      <td>...</td>\n",
              "      <td>...</td>\n",
              "      <td>...</td>\n",
              "      <td>...</td>\n",
              "      <td>...</td>\n",
              "      <td>...</td>\n",
              "      <td>...</td>\n",
              "      <td>...</td>\n",
              "      <td>...</td>\n",
              "      <td>...</td>\n",
              "    </tr>\n",
              "    <tr>\n",
              "      <th>219</th>\n",
              "      <td>2022-01-13 09:00:00</td>\n",
              "      <td>5.245293e+07</td>\n",
              "      <td>5.172659e+07</td>\n",
              "      <td>5.342710e+07</td>\n",
              "      <td>5.183510e+07</td>\n",
              "      <td>5.315570e+07</td>\n",
              "      <td>78470.953128</td>\n",
              "      <td>78470.953128</td>\n",
              "      <td>78470.953128</td>\n",
              "      <td>78470.953128</td>\n",
              "      <td>78470.953128</td>\n",
              "      <td>78470.953128</td>\n",
              "      <td>0.0</td>\n",
              "      <td>0.0</td>\n",
              "      <td>0.0</td>\n",
              "      <td>5.253140e+07</td>\n",
              "    </tr>\n",
              "    <tr>\n",
              "      <th>220</th>\n",
              "      <td>2022-01-13 10:00:00</td>\n",
              "      <td>5.247968e+07</td>\n",
              "      <td>5.161391e+07</td>\n",
              "      <td>5.339653e+07</td>\n",
              "      <td>5.180986e+07</td>\n",
              "      <td>5.323702e+07</td>\n",
              "      <td>51957.108293</td>\n",
              "      <td>51957.108293</td>\n",
              "      <td>51957.108293</td>\n",
              "      <td>51957.108293</td>\n",
              "      <td>51957.108293</td>\n",
              "      <td>51957.108293</td>\n",
              "      <td>0.0</td>\n",
              "      <td>0.0</td>\n",
              "      <td>0.0</td>\n",
              "      <td>5.253164e+07</td>\n",
              "    </tr>\n",
              "    <tr>\n",
              "      <th>221</th>\n",
              "      <td>2022-01-13 11:00:00</td>\n",
              "      <td>5.250642e+07</td>\n",
              "      <td>5.162792e+07</td>\n",
              "      <td>5.340566e+07</td>\n",
              "      <td>5.177457e+07</td>\n",
              "      <td>5.331573e+07</td>\n",
              "      <td>-12965.859357</td>\n",
              "      <td>-12965.859357</td>\n",
              "      <td>-12965.859357</td>\n",
              "      <td>-12965.859357</td>\n",
              "      <td>-12965.859357</td>\n",
              "      <td>-12965.859357</td>\n",
              "      <td>0.0</td>\n",
              "      <td>0.0</td>\n",
              "      <td>0.0</td>\n",
              "      <td>5.249346e+07</td>\n",
              "    </tr>\n",
              "    <tr>\n",
              "      <th>222</th>\n",
              "      <td>2022-01-13 12:00:00</td>\n",
              "      <td>5.253317e+07</td>\n",
              "      <td>5.156097e+07</td>\n",
              "      <td>5.349193e+07</td>\n",
              "      <td>5.172310e+07</td>\n",
              "      <td>5.339832e+07</td>\n",
              "      <td>-91379.992121</td>\n",
              "      <td>-91379.992121</td>\n",
              "      <td>-91379.992121</td>\n",
              "      <td>-91379.992121</td>\n",
              "      <td>-91379.992121</td>\n",
              "      <td>-91379.992121</td>\n",
              "      <td>0.0</td>\n",
              "      <td>0.0</td>\n",
              "      <td>0.0</td>\n",
              "      <td>5.244179e+07</td>\n",
              "    </tr>\n",
              "    <tr>\n",
              "      <th>223</th>\n",
              "      <td>2022-01-13 13:00:00</td>\n",
              "      <td>5.255991e+07</td>\n",
              "      <td>5.141531e+07</td>\n",
              "      <td>5.345053e+07</td>\n",
              "      <td>5.166929e+07</td>\n",
              "      <td>5.347829e+07</td>\n",
              "      <td>-148724.132245</td>\n",
              "      <td>-148724.132245</td>\n",
              "      <td>-148724.132245</td>\n",
              "      <td>-148724.132245</td>\n",
              "      <td>-148724.132245</td>\n",
              "      <td>-148724.132245</td>\n",
              "      <td>0.0</td>\n",
              "      <td>0.0</td>\n",
              "      <td>0.0</td>\n",
              "      <td>5.241119e+07</td>\n",
              "    </tr>\n",
              "  </tbody>\n",
              "</table>\n",
              "<p>224 rows × 16 columns</p>\n",
              "</div>\n",
              "      <button class=\"colab-df-convert\" onclick=\"convertToInteractive('df-0c16cdba-477b-44ca-bee3-b2891f32ca7e')\"\n",
              "              title=\"Convert this dataframe to an interactive table.\"\n",
              "              style=\"display:none;\">\n",
              "        \n",
              "  <svg xmlns=\"http://www.w3.org/2000/svg\" height=\"24px\"viewBox=\"0 0 24 24\"\n",
              "       width=\"24px\">\n",
              "    <path d=\"M0 0h24v24H0V0z\" fill=\"none\"/>\n",
              "    <path d=\"M18.56 5.44l.94 2.06.94-2.06 2.06-.94-2.06-.94-.94-2.06-.94 2.06-2.06.94zm-11 1L8.5 8.5l.94-2.06 2.06-.94-2.06-.94L8.5 2.5l-.94 2.06-2.06.94zm10 10l.94 2.06.94-2.06 2.06-.94-2.06-.94-.94-2.06-.94 2.06-2.06.94z\"/><path d=\"M17.41 7.96l-1.37-1.37c-.4-.4-.92-.59-1.43-.59-.52 0-1.04.2-1.43.59L10.3 9.45l-7.72 7.72c-.78.78-.78 2.05 0 2.83L4 21.41c.39.39.9.59 1.41.59.51 0 1.02-.2 1.41-.59l7.78-7.78 2.81-2.81c.8-.78.8-2.07 0-2.86zM5.41 20L4 18.59l7.72-7.72 1.47 1.35L5.41 20z\"/>\n",
              "  </svg>\n",
              "      </button>\n",
              "      \n",
              "  <style>\n",
              "    .colab-df-container {\n",
              "      display:flex;\n",
              "      flex-wrap:wrap;\n",
              "      gap: 12px;\n",
              "    }\n",
              "\n",
              "    .colab-df-convert {\n",
              "      background-color: #E8F0FE;\n",
              "      border: none;\n",
              "      border-radius: 50%;\n",
              "      cursor: pointer;\n",
              "      display: none;\n",
              "      fill: #1967D2;\n",
              "      height: 32px;\n",
              "      padding: 0 0 0 0;\n",
              "      width: 32px;\n",
              "    }\n",
              "\n",
              "    .colab-df-convert:hover {\n",
              "      background-color: #E2EBFA;\n",
              "      box-shadow: 0px 1px 2px rgba(60, 64, 67, 0.3), 0px 1px 3px 1px rgba(60, 64, 67, 0.15);\n",
              "      fill: #174EA6;\n",
              "    }\n",
              "\n",
              "    [theme=dark] .colab-df-convert {\n",
              "      background-color: #3B4455;\n",
              "      fill: #D2E3FC;\n",
              "    }\n",
              "\n",
              "    [theme=dark] .colab-df-convert:hover {\n",
              "      background-color: #434B5C;\n",
              "      box-shadow: 0px 1px 3px 1px rgba(0, 0, 0, 0.15);\n",
              "      filter: drop-shadow(0px 1px 2px rgba(0, 0, 0, 0.3));\n",
              "      fill: #FFFFFF;\n",
              "    }\n",
              "  </style>\n",
              "\n",
              "      <script>\n",
              "        const buttonEl =\n",
              "          document.querySelector('#df-0c16cdba-477b-44ca-bee3-b2891f32ca7e button.colab-df-convert');\n",
              "        buttonEl.style.display =\n",
              "          google.colab.kernel.accessAllowed ? 'block' : 'none';\n",
              "\n",
              "        async function convertToInteractive(key) {\n",
              "          const element = document.querySelector('#df-0c16cdba-477b-44ca-bee3-b2891f32ca7e');\n",
              "          const dataTable =\n",
              "            await google.colab.kernel.invokeFunction('convertToInteractive',\n",
              "                                                     [key], {});\n",
              "          if (!dataTable) return;\n",
              "\n",
              "          const docLinkHtml = 'Like what you see? Visit the ' +\n",
              "            '<a target=\"_blank\" href=https://colab.research.google.com/notebooks/data_table.ipynb>data table notebook</a>'\n",
              "            + ' to learn more about interactive tables.';\n",
              "          element.innerHTML = '';\n",
              "          dataTable['output_type'] = 'display_data';\n",
              "          await google.colab.output.renderOutput(dataTable, element);\n",
              "          const docLink = document.createElement('div');\n",
              "          docLink.innerHTML = docLinkHtml;\n",
              "          element.appendChild(docLink);\n",
              "        }\n",
              "      </script>\n",
              "    </div>\n",
              "  </div>\n",
              "  "
            ],
            "text/plain": [
              "                     ds         trend  ...  multiplicative_terms_upper          yhat\n",
              "0   2022-01-04 06:00:00  5.643799e+07  ...                         0.0  5.646661e+07\n",
              "1   2022-01-04 07:00:00  5.644802e+07  ...                         0.0  5.648757e+07\n",
              "2   2022-01-04 08:00:00  5.645806e+07  ...                         0.0  5.652444e+07\n",
              "3   2022-01-04 09:00:00  5.646810e+07  ...                         0.0  5.654657e+07\n",
              "4   2022-01-04 10:00:00  5.647814e+07  ...                         0.0  5.653009e+07\n",
              "..                  ...           ...  ...                         ...           ...\n",
              "219 2022-01-13 09:00:00  5.245293e+07  ...                         0.0  5.253140e+07\n",
              "220 2022-01-13 10:00:00  5.247968e+07  ...                         0.0  5.253164e+07\n",
              "221 2022-01-13 11:00:00  5.250642e+07  ...                         0.0  5.249346e+07\n",
              "222 2022-01-13 12:00:00  5.253317e+07  ...                         0.0  5.244179e+07\n",
              "223 2022-01-13 13:00:00  5.255991e+07  ...                         0.0  5.241119e+07\n",
              "\n",
              "[224 rows x 16 columns]"
            ]
          },
          "metadata": {},
          "execution_count": 27
        }
      ],
      "source": [
        "#구체적인 가격\n",
        "print(\"현재 시점 가격: \", nowValue)\n",
        "print(\"종가의 가격: \", closeValue)\n",
        "forecast"
      ]
    },
    {
      "cell_type": "code",
      "execution_count": null,
      "id": "7972662e-3958-4b58-b760-5642e0954a13",
      "metadata": {
        "id": "7972662e-3958-4b58-b760-5642e0954a13"
      },
      "outputs": [],
      "source": [
        "#거래 전략"
      ]
    },
    {
      "cell_type": "code",
      "execution_count": null,
      "id": "c7a06cb7-e108-40c9-b5d1-7f3aec97129c",
      "metadata": {
        "id": "c7a06cb7-e108-40c9-b5d1-7f3aec97129c",
        "outputId": "6203467d-1b4e-45b7-dd2a-22216229f329"
      },
      "outputs": [
        {
          "name": "stdout",
          "output_type": "stream",
          "text": [
            "name 'access' is not defined\n"
          ]
        }
      ],
      "source": [
        "if __name__ == '__main__': \n",
        "    try:\n",
        "        upbit = pyupbit.Upbit(access, secret)\n",
        "\n",
        "        K = 0.5            # targetPrice 를 구할 때 사용할 K 값\n",
        "    \n",
        "        start_balance = upbit.get_balance(\"KRW\")\n",
        "        df = pyupbit.get_ohlcv(coin, count = 2, interval = \"day\")\n",
        "        targetPrice = get_targetPrice(df, get_best_K(coin, fees))\n",
        "        print(datetime.datetime.now().strftime('%y/%m/%d %H:%M:%S'), \"\\t\\tBalance :\", start_balance, \"KRW \\t\\tYield :\", ((start_balance / start_balance) - 1) * 100, \"% \\t\\tNew targetPrice :\", targetPrice, \"KRW\")\n",
        "\n",
        "        while True :\n",
        "            now = datetime.datetime.now()\n",
        "            if now.hour == 9 and now.minute == 0 and now.second == 0:    # when am 09:02:00\n",
        "                sell_all(coin)\n",
        "                df = pyupbit.get_ohlcv(coin, count = 2, interval = \"day\")\n",
        "                targetPrice = get_targetPrice(df, get_best_K(coin, fees))\n",
        "                time.sleep(1)\n",
        "\n",
        "                cur_balance = upbit.get_balance(\"KRW\")\n",
        "                print(now.strftime('%y/%m/%d %H:%M:%S'), \"\\t\\tBalance :\", cur_balance, \"KRW \\t\\tYield :\", ((cur_balance / start_balance) - 1) * 100, \"% \\t\\tNew targetPrice :\", targetPrice, \"KRW\")\n",
        "            \n",
        "            elif targetPrice <= pyupbit.get_current_price(coin) :\n",
        "                buy_all(coin)\n",
        "                start_time = df.index[-1]\n",
        "                end_time = start_time + datetime.timedelta(days=1)\n",
        "                if end_time > now :\n",
        "                    print((end_time - now).seconds)\n",
        "                    time.sleep((end_time - now).seconds - 60)\n",
        "    \n",
        "            time.sleep(1)\n",
        "\n",
        "    except Exception as e:\n",
        "        print(e)\n",
        "        time.sleep(1)\n"
      ]
    },
    {
      "cell_type": "code",
      "execution_count": null,
      "id": "c99a05c3-994b-4590-b089-fae55fc50bd8",
      "metadata": {
        "id": "c99a05c3-994b-4590-b089-fae55fc50bd8"
      },
      "outputs": [],
      "source": [
        ""
      ]
    }
  ],
  "metadata": {
    "kernelspec": {
      "display_name": "Python 3",
      "language": "python",
      "name": "python3"
    },
    "language_info": {
      "codemirror_mode": {
        "name": "ipython",
        "version": 3
      },
      "file_extension": ".py",
      "mimetype": "text/x-python",
      "name": "python",
      "nbconvert_exporter": "python",
      "pygments_lexer": "ipython3",
      "version": "3.8.8"
    },
    "colab": {
      "name": "my_python_code.ipynb",
      "provenance": [],
      "include_colab_link": true
    }
  },
  "nbformat": 4,
  "nbformat_minor": 5
}