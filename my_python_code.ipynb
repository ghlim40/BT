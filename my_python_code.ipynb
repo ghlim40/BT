{
  "cells": [
    {
      "cell_type": "markdown",
      "metadata": {
        "id": "view-in-github",
        "colab_type": "text"
      },
      "source": [
        "<a href=\"https://colab.research.google.com/github/ghlim40/BT/blob/main/my_python_code.ipynb\" target=\"_parent\"><img src=\"https://colab.research.google.com/assets/colab-badge.svg\" alt=\"Open In Colab\"/></a>"
      ]
    },
    {
      "cell_type": "code",
      "execution_count": null,
      "id": "d03ae486-6acc-433e-8364-25577c624ece",
      "metadata": {
        "collapsed": true,
        "jupyter": {
          "outputs_hidden": true
        },
        "tags": [],
        "colab": {
          "base_uri": "https://localhost:8080/"
        },
        "id": "d03ae486-6acc-433e-8364-25577c624ece",
        "outputId": "785460d2-7fec-40ac-c822-ec961eaf5020"
      },
      "outputs": [
        {
          "output_type": "stream",
          "name": "stdout",
          "text": [
            "Collecting pyupbit\n",
            "  Downloading pyupbit-0.2.22-py3-none-any.whl (21 kB)\n",
            "Requirement already satisfied: requests in /usr/local/lib/python3.7/dist-packages (from pyupbit) (2.23.0)\n",
            "Collecting pyjwt>=2.0.0\n",
            "  Downloading PyJWT-2.3.0-py3-none-any.whl (16 kB)\n",
            "Requirement already satisfied: pandas in /usr/local/lib/python3.7/dist-packages (from pyupbit) (1.1.5)\n",
            "Collecting websockets==9.1\n",
            "  Downloading websockets-9.1-cp37-cp37m-manylinux2010_x86_64.whl (103 kB)\n",
            "\u001b[K     |████████████████████████████████| 103 kB 8.4 MB/s \n",
            "\u001b[?25hRequirement already satisfied: pytz>=2017.2 in /usr/local/lib/python3.7/dist-packages (from pandas->pyupbit) (2018.9)\n",
            "Requirement already satisfied: python-dateutil>=2.7.3 in /usr/local/lib/python3.7/dist-packages (from pandas->pyupbit) (2.8.2)\n",
            "Requirement already satisfied: numpy>=1.15.4 in /usr/local/lib/python3.7/dist-packages (from pandas->pyupbit) (1.19.5)\n",
            "Requirement already satisfied: six>=1.5 in /usr/local/lib/python3.7/dist-packages (from python-dateutil>=2.7.3->pandas->pyupbit) (1.15.0)\n",
            "Requirement already satisfied: urllib3!=1.25.0,!=1.25.1,<1.26,>=1.21.1 in /usr/local/lib/python3.7/dist-packages (from requests->pyupbit) (1.24.3)\n",
            "Requirement already satisfied: chardet<4,>=3.0.2 in /usr/local/lib/python3.7/dist-packages (from requests->pyupbit) (3.0.4)\n",
            "Requirement already satisfied: idna<3,>=2.5 in /usr/local/lib/python3.7/dist-packages (from requests->pyupbit) (2.10)\n",
            "Requirement already satisfied: certifi>=2017.4.17 in /usr/local/lib/python3.7/dist-packages (from requests->pyupbit) (2021.10.8)\n",
            "Installing collected packages: websockets, pyjwt, pyupbit\n",
            "Successfully installed pyjwt-2.3.0 pyupbit-0.2.22 websockets-9.1\n",
            "Collecting datetime\n",
            "  Downloading DateTime-4.3-py2.py3-none-any.whl (60 kB)\n",
            "\u001b[K     |████████████████████████████████| 60 kB 3.4 MB/s \n",
            "\u001b[?25hRequirement already satisfied: pytz in /usr/local/lib/python3.7/dist-packages (from datetime) (2018.9)\n",
            "Collecting zope.interface\n",
            "  Downloading zope.interface-5.4.0-cp37-cp37m-manylinux2010_x86_64.whl (251 kB)\n",
            "\u001b[K     |████████████████████████████████| 251 kB 10.9 MB/s \n",
            "\u001b[?25hRequirement already satisfied: setuptools in /usr/local/lib/python3.7/dist-packages (from zope.interface->datetime) (57.4.0)\n",
            "Installing collected packages: zope.interface, datetime\n",
            "Successfully installed datetime-4.3 zope.interface-5.4.0\n",
            "Requirement already satisfied: numpy in /usr/local/lib/python3.7/dist-packages (1.19.5)\n",
            "Requirement already satisfied: pyjwt in /usr/local/lib/python3.7/dist-packages (2.3.0)\n",
            "Requirement already satisfied: datetime in /usr/local/lib/python3.7/dist-packages (4.3)\n",
            "Requirement already satisfied: pytz in /usr/local/lib/python3.7/dist-packages (from datetime) (2018.9)\n",
            "Requirement already satisfied: zope.interface in /usr/local/lib/python3.7/dist-packages (from datetime) (5.4.0)\n",
            "Requirement already satisfied: setuptools in /usr/local/lib/python3.7/dist-packages (from zope.interface->datetime) (57.4.0)\n",
            "Collecting schedule\n",
            "  Downloading schedule-1.1.0-py2.py3-none-any.whl (10 kB)\n",
            "Installing collected packages: schedule\n",
            "Successfully installed schedule-1.1.0\n",
            "Collecting Prophet\n",
            "  Downloading prophet-1.0.1.tar.gz (65 kB)\n",
            "\u001b[K     |████████████████████████████████| 65 kB 2.5 MB/s \n",
            "\u001b[?25hRequirement already satisfied: Cython>=0.22 in /usr/local/lib/python3.7/dist-packages (from Prophet) (0.29.26)\n",
            "Collecting cmdstanpy==0.9.68\n",
            "  Downloading cmdstanpy-0.9.68-py3-none-any.whl (49 kB)\n",
            "\u001b[K     |████████████████████████████████| 49 kB 5.6 MB/s \n",
            "\u001b[?25hRequirement already satisfied: pystan~=2.19.1.1 in /usr/local/lib/python3.7/dist-packages (from Prophet) (2.19.1.1)\n",
            "Requirement already satisfied: numpy>=1.15.4 in /usr/local/lib/python3.7/dist-packages (from Prophet) (1.19.5)\n",
            "Requirement already satisfied: pandas>=1.0.4 in /usr/local/lib/python3.7/dist-packages (from Prophet) (1.1.5)\n",
            "Requirement already satisfied: matplotlib>=2.0.0 in /usr/local/lib/python3.7/dist-packages (from Prophet) (3.2.2)\n",
            "Requirement already satisfied: LunarCalendar>=0.0.9 in /usr/local/lib/python3.7/dist-packages (from Prophet) (0.0.9)\n",
            "Requirement already satisfied: convertdate>=2.1.2 in /usr/local/lib/python3.7/dist-packages (from Prophet) (2.3.2)\n",
            "Requirement already satisfied: holidays>=0.10.2 in /usr/local/lib/python3.7/dist-packages (from Prophet) (0.10.5.2)\n",
            "Requirement already satisfied: setuptools-git>=1.2 in /usr/local/lib/python3.7/dist-packages (from Prophet) (1.2)\n",
            "Requirement already satisfied: python-dateutil>=2.8.0 in /usr/local/lib/python3.7/dist-packages (from Prophet) (2.8.2)\n",
            "Requirement already satisfied: tqdm>=4.36.1 in /usr/local/lib/python3.7/dist-packages (from Prophet) (4.62.3)\n",
            "Collecting ujson\n",
            "  Downloading ujson-5.1.0-cp37-cp37m-manylinux_2_17_x86_64.manylinux2014_x86_64.whl (43 kB)\n",
            "\u001b[K     |████████████████████████████████| 43 kB 2.3 MB/s \n",
            "\u001b[?25hRequirement already satisfied: pytz>=2014.10 in /usr/local/lib/python3.7/dist-packages (from convertdate>=2.1.2->Prophet) (2018.9)\n",
            "Requirement already satisfied: pymeeus<=1,>=0.3.13 in /usr/local/lib/python3.7/dist-packages (from convertdate>=2.1.2->Prophet) (0.5.11)\n",
            "Requirement already satisfied: six in /usr/local/lib/python3.7/dist-packages (from holidays>=0.10.2->Prophet) (1.15.0)\n",
            "Requirement already satisfied: hijri-converter in /usr/local/lib/python3.7/dist-packages (from holidays>=0.10.2->Prophet) (2.2.2)\n",
            "Requirement already satisfied: korean-lunar-calendar in /usr/local/lib/python3.7/dist-packages (from holidays>=0.10.2->Prophet) (0.2.1)\n",
            "Requirement already satisfied: ephem>=3.7.5.3 in /usr/local/lib/python3.7/dist-packages (from LunarCalendar>=0.0.9->Prophet) (4.1.3)\n",
            "Requirement already satisfied: kiwisolver>=1.0.1 in /usr/local/lib/python3.7/dist-packages (from matplotlib>=2.0.0->Prophet) (1.3.2)\n",
            "Requirement already satisfied: cycler>=0.10 in /usr/local/lib/python3.7/dist-packages (from matplotlib>=2.0.0->Prophet) (0.11.0)\n",
            "Requirement already satisfied: pyparsing!=2.0.4,!=2.1.2,!=2.1.6,>=2.0.1 in /usr/local/lib/python3.7/dist-packages (from matplotlib>=2.0.0->Prophet) (3.0.6)\n",
            "Building wheels for collected packages: Prophet\n",
            "  Building wheel for Prophet (setup.py) ... \u001b[?25l\u001b[?25hdone\n",
            "  Created wheel for Prophet: filename=prophet-1.0.1-py3-none-any.whl size=6639680 sha256=c9625ce365f58970f5ee36f71e6e548db7442df9d6fb3a07bfc2699239dc3cfa\n",
            "  Stored in directory: /root/.cache/pip/wheels/4e/a0/1a/02c9ec9e3e9de6bdbb3d769d11992a6926889d71567d6b9b67\n",
            "Successfully built Prophet\n",
            "Installing collected packages: ujson, cmdstanpy, Prophet\n",
            "  Attempting uninstall: cmdstanpy\n",
            "    Found existing installation: cmdstanpy 0.9.5\n",
            "    Uninstalling cmdstanpy-0.9.5:\n",
            "      Successfully uninstalled cmdstanpy-0.9.5\n",
            "\u001b[31mERROR: pip's dependency resolver does not currently take into account all the packages that are installed. This behaviour is the source of the following dependency conflicts.\n",
            "fbprophet 0.7.1 requires cmdstanpy==0.9.5, but you have cmdstanpy 0.9.68 which is incompatible.\u001b[0m\n",
            "Successfully installed Prophet-1.0.1 cmdstanpy-0.9.68 ujson-5.1.0\n"
          ]
        }
      ],
      "source": [
        "#라이브러리 설치\n",
        "!pip install pyupbit\n",
        "!pip install datetime\n",
        "!pip install numpy\n",
        "!pip install pyjwt\n",
        "!pip install datetime\n",
        "!pip install schedule\n",
        "!pip install Prophet"
      ]
    },
    {
      "cell_type": "code",
      "execution_count": null,
      "id": "fc1de1a5-751a-49f4-ab18-699a0632e816",
      "metadata": {
        "id": "fc1de1a5-751a-49f4-ab18-699a0632e816"
      },
      "outputs": [],
      "source": [
        "#라이브러리 임포트\n",
        "import pyupbit\n",
        "import datetime\n",
        "import time, calendar\n",
        "import numpy as np\n",
        "import datetime\n",
        "import schedule\n",
        "from fbprophet import Prophet"
      ]
    },
    {
      "cell_type": "code",
      "execution_count": null,
      "id": "34cf99cb-3abb-40d1-9ba9-f1938569f5d0",
      "metadata": {
        "id": "34cf99cb-3abb-40d1-9ba9-f1938569f5d0"
      },
      "outputs": [],
      "source": [
        "# set variables\n",
        "coin = \"KRW-BTC\"   # 매매를 진행할 가상화폐의 ticker\n",
        "fees = 0.0005      # 수수료"
      ]
    },
    {
      "cell_type": "code",
      "execution_count": null,
      "id": "9d29540a-ad81-45cb-9019-763dc7679588",
      "metadata": {
        "id": "9d29540a-ad81-45cb-9019-763dc7679588"
      },
      "outputs": [],
      "source": [
        "#access key & secret key\n",
        "access = \"your-access\"\n",
        "secret = \"your-secret\""
      ]
    },
    {
      "cell_type": "code",
      "execution_count": null,
      "id": "cd8298e6-1df5-450f-a22b-bec42323cf5e",
      "metadata": {
        "id": "cd8298e6-1df5-450f-a22b-bec42323cf5e"
      },
      "outputs": [],
      "source": [
        "#목표 가격 측정\n",
        "# -1은 오늘, -2는 어제데이터\n",
        "def get_targetPrice(df, K) :\n",
        "    range = df['high'][-2] - df['low'][-2] #전일 고가와 전일 저가의 차이값\n",
        "    return df['open'][-1] + range * K #당일 시가 + range값에 상수k를 곱하여 더함"
      ]
    },
    {
      "cell_type": "code",
      "execution_count": null,
      "id": "1081e0d2-ab7a-43b3-a2db-e0abfbb89cd1",
      "metadata": {
        "id": "1081e0d2-ab7a-43b3-a2db-e0abfbb89cd1"
      },
      "outputs": [],
      "source": [
        ""
      ]
    },
    {
      "cell_type": "code",
      "execution_count": null,
      "id": "2fc2b8d4-340d-4316-972e-c4cdd92043ac",
      "metadata": {
        "id": "2fc2b8d4-340d-4316-972e-c4cdd92043ac"
      },
      "outputs": [],
      "source": [
        "#코인 구매기능\n",
        "def buy_all(coin) :\n",
        "    #get_balance : 보유중인 잔고 조회\n",
        "    balance = upbit.get_balance(\"KRW\") * 0.9995\n",
        "    \n",
        "    #업비트 최소 주문금액이 5000원 이상\n",
        "    if balance >= 5000 : \n",
        "        print(upbit.buy_market_order(coin, balance))"
      ]
    },
    {
      "cell_type": "code",
      "execution_count": null,
      "id": "0ea45df5-46d9-4f16-9c98-50a9e4142510",
      "metadata": {
        "id": "0ea45df5-46d9-4f16-9c98-50a9e4142510"
      },
      "outputs": [],
      "source": [
        "#코인 판매기능\n",
        "def sell_all(coin) :\n",
        "    balance = upbit.get_balance(coin)\n",
        "    price = pyupbit.get_current_price(coin)\n",
        "    \n",
        "    #업비트 최소 주문금액이 5000원 이상\n",
        "    if price * balance >= 5000 : \n",
        "        print(upbit.sell_market_order(coin, balance))\n"
      ]
    },
    {
      "cell_type": "code",
      "execution_count": null,
      "id": "650adce7-5f3a-4905-b69d-b55ada1f229b",
      "metadata": {
        "id": "650adce7-5f3a-4905-b69d-b55ada1f229b"
      },
      "outputs": [],
      "source": [
        "#누적수익률 반환\n",
        "# drr = Daily Rate Of Return 하루수익률\n",
        "# crr = Cumulative Rate Of Return 누적수익률\n",
        "# mdd = Max Draw Down, dd = Draw Down 손해율\n",
        "\n",
        "def get_crr(df, fees, K) :\n",
        "    df['range'] = df['high'].shift(1) - df['low'].shift(1)\n",
        "    df['targetPrice'] = df['open'] + df['range'] * K\n",
        "    df['drr'] = np.where(df['high'] > df['targetPrice'], (df['close'] / (1 + fees)) / (df['targetPrice'] * (1 + fees)) , 1)\n",
        "    return df['drr'].cumprod()[-2]"
      ]
    },
    {
      "cell_type": "code",
      "execution_count": null,
      "id": "73481068-c4d6-429f-94f7-cc4912af1537",
      "metadata": {
        "id": "73481068-c4d6-429f-94f7-cc4912af1537"
      },
      "outputs": [],
      "source": [
        "#해당 일자의 가장 적절한 K값 선정\n",
        "def get_best_K(coin, fees) :\n",
        "    df = pyupbit.get_ohlcv(coin, interval = \"day\", count = 21)\n",
        "    max_crr = 0\n",
        "    best_K = 0.5\n",
        "    for k in np.arange(0.0, 1.0, 0.1) :\n",
        "        crr = get_crr(df, fees, k)\n",
        "        if crr > max_crr :\n",
        "            max_crr = crr\n",
        "            best_K = k\n",
        "    return best_K"
      ]
    },
    {
      "cell_type": "code",
      "source": [
        "#미래 가측 예측\n",
        "predicted_close_price = 0\n",
        "def predict_price(coin):\n",
        "    \"\"\"Prophet으로 당일 종가 가격 예측\"\"\"\n",
        "    global predicted_close_price\n",
        "    df = pyupbit.get_ohlcv(coin, interval=\"minute60\")\n",
        "    df = df.reset_index()\n",
        "    df['ds'] = df['index']\n",
        "    df['y'] = df['close']\n",
        "    data = df[['ds','y']]\n",
        "    model = Prophet()\n",
        "    model.fit(data)\n",
        "    future = model.make_future_dataframe(periods=24, freq='H')\n",
        "    forecast = model.predict(future)\n",
        "    closeDf = forecast[forecast['ds'] == forecast.iloc[-1]['ds'].replace(hour=9)]\n",
        "    if len(closeDf) == 0:\n",
        "        closeDf = forecast[forecast['ds'] == data.iloc[-1]['ds'].replace(hour=9)]\n",
        "    closeValue = closeDf['yhat'].values[0]\n",
        "    predicted_close_price = closeValue\n",
        "predict_price(coin)\n",
        "schedule.every().hour.do(lambda: predict_price(coin))"
      ],
      "metadata": {
        "id": "nL3bACtI9gAW"
      },
      "id": "nL3bACtI9gAW",
      "execution_count": null,
      "outputs": []
    },
    {
      "cell_type": "code",
      "execution_count": null,
      "id": "7972662e-3958-4b58-b760-5642e0954a13",
      "metadata": {
        "id": "7972662e-3958-4b58-b760-5642e0954a13"
      },
      "outputs": [],
      "source": [
        ""
      ]
    },
    {
      "cell_type": "code",
      "execution_count": null,
      "id": "c7a06cb7-e108-40c9-b5d1-7f3aec97129c",
      "metadata": {
        "id": "c7a06cb7-e108-40c9-b5d1-7f3aec97129c",
        "outputId": "f3582c40-6bcc-4f6d-8cbb-4963d6e5f12a",
        "colab": {
          "base_uri": "https://localhost:8080/"
        }
      },
      "outputs": [
        {
          "output_type": "stream",
          "name": "stdout",
          "text": [
            "401\n",
            "잘못된 엑세스 키입니다.\n",
            "invalid_access_key\n",
            "InValidAccessKey\n",
            "unsupported operand type(s) for /: 'NoneType' and 'NoneType'\n"
          ]
        }
      ],
      "source": [
        "#거래 전략\n",
        "if __name__ == '__main__': \n",
        "    try:\n",
        "        upbit = pyupbit.Upbit(access, secret)\n",
        "\n",
        "        K = 0.5            # targetPrice 를 구할 때 사용할 K 값\n",
        "    \n",
        "        start_balance = upbit.get_balance(\"KRW\")\n",
        "        df = pyupbit.get_ohlcv(coin, count = 2, interval = \"day\")\n",
        "        targetPrice = get_targetPrice(df, get_best_K(coin, fees))\n",
        "        print(datetime.datetime.now().strftime('%y/%m/%d %H:%M:%S'), \"\\t\\tBalance :\", start_balance, \"KRW \\t\\tYield :\", ((start_balance / start_balance) - 1) * 100, \"% \\t\\tNew targetPrice :\", targetPrice, \"KRW\")\n",
        "\n",
        "        while True :\n",
        "            now = datetime.datetime.now()\n",
        "            if now.hour == 9 and now.minute == 0 and now.second == 0:    # when am 09:02:00\n",
        "                sell_all(coin)\n",
        "                df = pyupbit.get_ohlcv(coin, count = 2, interval = \"day\")\n",
        "                targetPrice = get_targetPrice(df, get_best_K(coin, fees))\n",
        "                time.sleep(1)\n",
        "\n",
        "                cur_balance = upbit.get_balance(\"KRW\")\n",
        "                print(now.strftime('%y/%m/%d %H:%M:%S'), \"\\t\\tBalance :\", cur_balance, \"KRW \\t\\tYield :\", ((cur_balance / start_balance) - 1) * 100, \"% \\t\\tNew targetPrice :\", targetPrice, \"KRW\")\n",
        "            \n",
        "            elif targetPrice <= pyupbit.get_current_price(coin) and pyupbit.get_current_price(coin) < predicted_close_price :\n",
        "                buy_all(coin)\n",
        "                start_time = df.index[-1]\n",
        "                end_time = start_time + datetime.timedelta(days=1)\n",
        "                if end_time > now :\n",
        "                    print((end_time - now).seconds)\n",
        "                    time.sleep((end_time - now).seconds - 60)\n",
        "    \n",
        "            time.sleep(1)\n",
        "\n",
        "    except Exception as e:\n",
        "        print(e)\n",
        "        time.sleep(1)\n"
      ]
    }
  ],
  "metadata": {
    "kernelspec": {
      "display_name": "Python 3",
      "language": "python",
      "name": "python3"
    },
    "language_info": {
      "codemirror_mode": {
        "name": "ipython",
        "version": 3
      },
      "file_extension": ".py",
      "mimetype": "text/x-python",
      "name": "python",
      "nbconvert_exporter": "python",
      "pygments_lexer": "ipython3",
      "version": "3.8.8"
    },
    "colab": {
      "name": "my_python_code.ipynb",
      "provenance": [],
      "include_colab_link": true
    }
  },
  "nbformat": 4,
  "nbformat_minor": 5
}