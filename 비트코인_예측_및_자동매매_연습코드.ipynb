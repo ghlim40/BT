{
  "nbformat": 4,
  "nbformat_minor": 0,
  "metadata": {
    "colab": {
      "name": "비트코인 예측 및 자동매매 연습코드.ipynb",
      "provenance": [],
      "collapsed_sections": [],
      "authorship_tag": "ABX9TyNUmZlvtvvpuNB5Znygw5IT",
      "include_colab_link": true
    },
    "kernelspec": {
      "name": "python3",
      "display_name": "Python 3"
    },
    "language_info": {
      "name": "python"
    }
  },
  "cells": [
    {
      "cell_type": "markdown",
      "metadata": {
        "id": "view-in-github",
        "colab_type": "text"
      },
      "source": [
        "<a href=\"https://colab.research.google.com/github/ghlim40/BT/blob/main/%EB%B9%84%ED%8A%B8%EC%BD%94%EC%9D%B8_%EC%98%88%EC%B8%A1_%EB%B0%8F_%EC%9E%90%EB%8F%99%EB%A7%A4%EB%A7%A4_%EC%97%B0%EC%8A%B5%EC%BD%94%EB%93%9C.ipynb\" target=\"_parent\"><img src=\"https://colab.research.google.com/assets/colab-badge.svg\" alt=\"Open In Colab\"/></a>"
      ]
    },
    {
      "cell_type": "markdown",
      "source": [
        "## **필요한 모듈 설치 및 입력**"
      ],
      "metadata": {
        "id": "FilMfd6-M0Fo"
      }
    },
    {
      "cell_type": "code",
      "execution_count": 7,
      "metadata": {
        "id": "0cDo5QFTGKGc",
        "outputId": "efcb0a31-af75-43e0-ac87-7e7b7b332858",
        "colab": {
          "base_uri": "https://localhost:8080/"
        }
      },
      "outputs": [
        {
          "output_type": "stream",
          "name": "stdout",
          "text": [
            "Collecting pyjwt\n",
            "  Downloading PyJWT-2.3.0-py3-none-any.whl (16 kB)\n",
            "Installing collected packages: pyjwt\n",
            "Successfully installed pyjwt-2.3.0\n",
            "Collecting pyupbit\n",
            "  Downloading pyupbit-0.2.22-py3-none-any.whl (21 kB)\n",
            "Requirement already satisfied: requests in /usr/local/lib/python3.7/dist-packages (from pyupbit) (2.23.0)\n",
            "Requirement already satisfied: pyjwt>=2.0.0 in /usr/local/lib/python3.7/dist-packages (from pyupbit) (2.3.0)\n",
            "Requirement already satisfied: pandas in /usr/local/lib/python3.7/dist-packages (from pyupbit) (1.1.5)\n",
            "Collecting websockets==9.1\n",
            "  Downloading websockets-9.1-cp37-cp37m-manylinux2010_x86_64.whl (103 kB)\n",
            "\u001b[K     |████████████████████████████████| 103 kB 36.7 MB/s \n",
            "\u001b[?25hRequirement already satisfied: numpy>=1.15.4 in /usr/local/lib/python3.7/dist-packages (from pandas->pyupbit) (1.19.5)\n",
            "Requirement already satisfied: pytz>=2017.2 in /usr/local/lib/python3.7/dist-packages (from pandas->pyupbit) (2018.9)\n",
            "Requirement already satisfied: python-dateutil>=2.7.3 in /usr/local/lib/python3.7/dist-packages (from pandas->pyupbit) (2.8.2)\n",
            "Requirement already satisfied: six>=1.5 in /usr/local/lib/python3.7/dist-packages (from python-dateutil>=2.7.3->pandas->pyupbit) (1.15.0)\n",
            "Requirement already satisfied: chardet<4,>=3.0.2 in /usr/local/lib/python3.7/dist-packages (from requests->pyupbit) (3.0.4)\n",
            "Requirement already satisfied: urllib3!=1.25.0,!=1.25.1,<1.26,>=1.21.1 in /usr/local/lib/python3.7/dist-packages (from requests->pyupbit) (1.24.3)\n",
            "Requirement already satisfied: idna<3,>=2.5 in /usr/local/lib/python3.7/dist-packages (from requests->pyupbit) (2.10)\n",
            "Requirement already satisfied: certifi>=2017.4.17 in /usr/local/lib/python3.7/dist-packages (from requests->pyupbit) (2021.10.8)\n",
            "Installing collected packages: websockets, pyupbit\n",
            "Successfully installed pyupbit-0.2.22 websockets-9.1\n",
            "Requirement already satisfied: pandas in /usr/local/lib/python3.7/dist-packages (1.1.5)\n",
            "Requirement already satisfied: python-dateutil>=2.7.3 in /usr/local/lib/python3.7/dist-packages (from pandas) (2.8.2)\n",
            "Requirement already satisfied: pytz>=2017.2 in /usr/local/lib/python3.7/dist-packages (from pandas) (2018.9)\n",
            "Requirement already satisfied: numpy>=1.15.4 in /usr/local/lib/python3.7/dist-packages (from pandas) (1.19.5)\n",
            "Requirement already satisfied: six>=1.5 in /usr/local/lib/python3.7/dist-packages (from python-dateutil>=2.7.3->pandas) (1.15.0)\n"
          ]
        }
      ],
      "source": [
        "!pip install pyjwt #pyubi록 설치를 위해 필요\n",
        "!pip install pyupbit\n",
        "!pip install pandas"
      ]
    },
    {
      "cell_type": "code",
      "source": [
        "import pyupbit\n",
        "import pandas\n",
        "import pandas as pd\n",
        "import numpy as np\n",
        "from datetime import datetime\n",
        "import matplotlib.pyplot as plt\n",
        "import requests\n",
        "from datetime import datetime\n",
        "import time\n",
        "from tqdm import tqdm"
      ],
      "metadata": {
        "id": "IDGcnvmiGMx5"
      },
      "execution_count": 8,
      "outputs": []
    },
    {
      "cell_type": "markdown",
      "source": [
        "## **데이터를 가져올 코인 설정 및 범위 설정**"
      ],
      "metadata": {
        "id": "iAKEeFmiNDHv"
      }
    },
    {
      "cell_type": "code",
      "source": [
        "#KRW거래소에서 가져올수있는 코인 목록\n",
        "print(pyupbit.get_tickers(fiat=\"KRW\"))"
      ],
      "metadata": {
        "colab": {
          "base_uri": "https://localhost:8080/"
        },
        "id": "adAJTD8-GfwS",
        "outputId": "5027959a-d310-4c8f-c6a9-4cdab44c5b92"
      },
      "execution_count": 9,
      "outputs": [
        {
          "output_type": "stream",
          "name": "stdout",
          "text": [
            "['KRW-BTC', 'KRW-ETH', 'KRW-NEO', 'KRW-MTL', 'KRW-LTC', 'KRW-XRP', 'KRW-ETC', 'KRW-OMG', 'KRW-SNT', 'KRW-WAVES', 'KRW-XEM', 'KRW-QTUM', 'KRW-LSK', 'KRW-STEEM', 'KRW-XLM', 'KRW-ARDR', 'KRW-ARK', 'KRW-STORJ', 'KRW-GRS', 'KRW-REP', 'KRW-ADA', 'KRW-SBD', 'KRW-POWR', 'KRW-BTG', 'KRW-ICX', 'KRW-EOS', 'KRW-TRX', 'KRW-SC', 'KRW-ONT', 'KRW-ZIL', 'KRW-POLY', 'KRW-ZRX', 'KRW-LOOM', 'KRW-BCH', 'KRW-BAT', 'KRW-IOST', 'KRW-RFR', 'KRW-CVC', 'KRW-IQ', 'KRW-IOTA', 'KRW-MFT', 'KRW-ONG', 'KRW-GAS', 'KRW-UPP', 'KRW-ELF', 'KRW-KNC', 'KRW-BSV', 'KRW-THETA', 'KRW-QKC', 'KRW-BTT', 'KRW-MOC', 'KRW-ENJ', 'KRW-TFUEL', 'KRW-MANA', 'KRW-ANKR', 'KRW-AERGO', 'KRW-ATOM', 'KRW-TT', 'KRW-CRE', 'KRW-MBL', 'KRW-WAXP', 'KRW-HBAR', 'KRW-MED', 'KRW-MLK', 'KRW-STPT', 'KRW-ORBS', 'KRW-VET', 'KRW-CHZ', 'KRW-STMX', 'KRW-DKA', 'KRW-HIVE', 'KRW-KAVA', 'KRW-AHT', 'KRW-LINK', 'KRW-XTZ', 'KRW-BORA', 'KRW-JST', 'KRW-CRO', 'KRW-TON', 'KRW-SXP', 'KRW-HUNT', 'KRW-PLA', 'KRW-DOT', 'KRW-SRM', 'KRW-MVL', 'KRW-STRAX', 'KRW-AQT', 'KRW-GLM', 'KRW-SSX', 'KRW-META', 'KRW-FCT2', 'KRW-CBK', 'KRW-SAND', 'KRW-HUM', 'KRW-DOGE', 'KRW-STRK', 'KRW-PUNDIX', 'KRW-FLOW', 'KRW-DAWN', 'KRW-AXS', 'KRW-STX', 'KRW-XEC', 'KRW-SOL', 'KRW-MATIC', 'KRW-NU', 'KRW-AAVE', 'KRW-1INCH', 'KRW-ALGO', 'KRW-NEAR', 'KRW-WEMIX']\n"
          ]
        }
      ]
    },
    {
      "cell_type": "code",
      "source": [
        "#가져오고자 하는 코인 이름\n",
        "coin = \"KRW-ETH\"\n",
        "\n",
        "#가져오고자 하는 코인의 주기\n",
        "#day/minute1/minute3/minute5/minute10/minute15/minute30/minute60/minute240/week/month\n",
        "coinInterval = \"minute60\"\n",
        "\n",
        "#현재 날짜 가져오기\n",
        "coinTime = datetime.today().strftime(\"%Y%m%d\")\n",
        "\n",
        "#가져올 행 개수 수동수정필요\n",
        "coinCount = 1000"
      ],
      "metadata": {
        "id": "mIlvNPN7ItPo"
      },
      "execution_count": 24,
      "outputs": []
    },
    {
      "cell_type": "code",
      "source": [
        "#count <= 불러올 행의 개수, \n",
        "#to <= interval변수의 기준으로 한단위 전 값까지 가져옴 1min일 경우 1분전 1day일 경우 어제값\n",
        "dfUpbit = pyupbit.get_ohlcv(coin,count=1000,interval=coinInterval)\n",
        "dfUpbit_yesterday = pyupbit.get_ohlcv(coin,count=1,interval='day',to=coinTime)\n",
        "rowCount=len(dfUpbit)"
      ],
      "metadata": {
        "id": "PrweMiDLIs79"
      },
      "execution_count": 25,
      "outputs": []
    },
    {
      "cell_type": "code",
      "source": [
        "#데이터 프레임 한글로 번역\n",
        "df_predict = dfUpbit.reset_index()\n",
        "df_predict['날짜'] = df_predict['index']\n",
        "df_predict['시가'] = df_predict['open']\n",
        "df_predict['종가'] = df_predict['close']\n",
        "df_predict['저가'] = df_predict['low']\n",
        "df_predict['고가'] = df_predict['high']\n",
        "df_predict['거래량'] = df_predict['volume']\n",
        "data_predict = df_predict[['날짜','시가','종가','저가','고가','거래량']]"
      ],
      "metadata": {
        "id": "EEg5hJEDOtZ_"
      },
      "execution_count": 37,
      "outputs": []
    },
    {
      "cell_type": "markdown",
      "source": [
        "## **설정값을 보여주는 모니터**"
      ],
      "metadata": {
        "id": "qss_-Nw-XjBk"
      }
    },
    {
      "cell_type": "code",
      "source": [
        "data_predict"
      ],
      "metadata": {
        "colab": {
          "base_uri": "https://localhost:8080/",
          "height": 424
        },
        "id": "hsoKi0xiXwfV",
        "outputId": "33e928ab-3dc4-4f5a-f104-24d6c4492ab3"
      },
      "execution_count": 13,
      "outputs": [
        {
          "output_type": "execute_result",
          "data": {
            "text/html": [
              "\n",
              "  <div id=\"df-517a59c7-cc9c-4419-a0da-51fcff06969e\">\n",
              "    <div class=\"colab-df-container\">\n",
              "      <div>\n",
              "<style scoped>\n",
              "    .dataframe tbody tr th:only-of-type {\n",
              "        vertical-align: middle;\n",
              "    }\n",
              "\n",
              "    .dataframe tbody tr th {\n",
              "        vertical-align: top;\n",
              "    }\n",
              "\n",
              "    .dataframe thead th {\n",
              "        text-align: right;\n",
              "    }\n",
              "</style>\n",
              "<table border=\"1\" class=\"dataframe\">\n",
              "  <thead>\n",
              "    <tr style=\"text-align: right;\">\n",
              "      <th></th>\n",
              "      <th>날짜</th>\n",
              "      <th>시가</th>\n",
              "      <th>종가</th>\n",
              "      <th>저가</th>\n",
              "      <th>고가</th>\n",
              "      <th>거래량</th>\n",
              "    </tr>\n",
              "  </thead>\n",
              "  <tbody>\n",
              "    <tr>\n",
              "      <th>0</th>\n",
              "      <td>2021-12-13 23:00:00</td>\n",
              "      <td>4945000.0</td>\n",
              "      <td>4894000.0</td>\n",
              "      <td>4864000.0</td>\n",
              "      <td>4945000.0</td>\n",
              "      <td>8853.696584</td>\n",
              "    </tr>\n",
              "    <tr>\n",
              "      <th>1</th>\n",
              "      <td>2021-12-14 00:00:00</td>\n",
              "      <td>4895000.0</td>\n",
              "      <td>4780000.0</td>\n",
              "      <td>4732000.0</td>\n",
              "      <td>4895000.0</td>\n",
              "      <td>13073.887138</td>\n",
              "    </tr>\n",
              "    <tr>\n",
              "      <th>2</th>\n",
              "      <td>2021-12-14 01:00:00</td>\n",
              "      <td>4780000.0</td>\n",
              "      <td>4782000.0</td>\n",
              "      <td>4730000.0</td>\n",
              "      <td>4819000.0</td>\n",
              "      <td>6186.154056</td>\n",
              "    </tr>\n",
              "    <tr>\n",
              "      <th>3</th>\n",
              "      <td>2021-12-14 02:00:00</td>\n",
              "      <td>4786000.0</td>\n",
              "      <td>4796000.0</td>\n",
              "      <td>4772000.0</td>\n",
              "      <td>4847000.0</td>\n",
              "      <td>1954.430176</td>\n",
              "    </tr>\n",
              "    <tr>\n",
              "      <th>4</th>\n",
              "      <td>2021-12-14 03:00:00</td>\n",
              "      <td>4798000.0</td>\n",
              "      <td>4799000.0</td>\n",
              "      <td>4783000.0</td>\n",
              "      <td>4806000.0</td>\n",
              "      <td>885.228120</td>\n",
              "    </tr>\n",
              "    <tr>\n",
              "      <th>...</th>\n",
              "      <td>...</td>\n",
              "      <td>...</td>\n",
              "      <td>...</td>\n",
              "      <td>...</td>\n",
              "      <td>...</td>\n",
              "      <td>...</td>\n",
              "    </tr>\n",
              "    <tr>\n",
              "      <th>995</th>\n",
              "      <td>2022-01-24 12:00:00</td>\n",
              "      <td>2981000.0</td>\n",
              "      <td>3011000.0</td>\n",
              "      <td>2974000.0</td>\n",
              "      <td>3016000.0</td>\n",
              "      <td>2875.618364</td>\n",
              "    </tr>\n",
              "    <tr>\n",
              "      <th>996</th>\n",
              "      <td>2022-01-24 13:00:00</td>\n",
              "      <td>3012000.0</td>\n",
              "      <td>2983000.0</td>\n",
              "      <td>2975000.0</td>\n",
              "      <td>3021000.0</td>\n",
              "      <td>2172.792134</td>\n",
              "    </tr>\n",
              "    <tr>\n",
              "      <th>997</th>\n",
              "      <td>2022-01-24 14:00:00</td>\n",
              "      <td>2982000.0</td>\n",
              "      <td>2995000.0</td>\n",
              "      <td>2963000.0</td>\n",
              "      <td>2996000.0</td>\n",
              "      <td>2531.473787</td>\n",
              "    </tr>\n",
              "    <tr>\n",
              "      <th>998</th>\n",
              "      <td>2022-01-24 15:00:00</td>\n",
              "      <td>2992000.0</td>\n",
              "      <td>2990000.0</td>\n",
              "      <td>2975000.0</td>\n",
              "      <td>3006000.0</td>\n",
              "      <td>2398.052579</td>\n",
              "    </tr>\n",
              "    <tr>\n",
              "      <th>999</th>\n",
              "      <td>2022-01-24 16:00:00</td>\n",
              "      <td>2990000.0</td>\n",
              "      <td>2967000.0</td>\n",
              "      <td>2965000.0</td>\n",
              "      <td>2990000.0</td>\n",
              "      <td>682.742611</td>\n",
              "    </tr>\n",
              "  </tbody>\n",
              "</table>\n",
              "<p>1000 rows × 6 columns</p>\n",
              "</div>\n",
              "      <button class=\"colab-df-convert\" onclick=\"convertToInteractive('df-517a59c7-cc9c-4419-a0da-51fcff06969e')\"\n",
              "              title=\"Convert this dataframe to an interactive table.\"\n",
              "              style=\"display:none;\">\n",
              "        \n",
              "  <svg xmlns=\"http://www.w3.org/2000/svg\" height=\"24px\"viewBox=\"0 0 24 24\"\n",
              "       width=\"24px\">\n",
              "    <path d=\"M0 0h24v24H0V0z\" fill=\"none\"/>\n",
              "    <path d=\"M18.56 5.44l.94 2.06.94-2.06 2.06-.94-2.06-.94-.94-2.06-.94 2.06-2.06.94zm-11 1L8.5 8.5l.94-2.06 2.06-.94-2.06-.94L8.5 2.5l-.94 2.06-2.06.94zm10 10l.94 2.06.94-2.06 2.06-.94-2.06-.94-.94-2.06-.94 2.06-2.06.94z\"/><path d=\"M17.41 7.96l-1.37-1.37c-.4-.4-.92-.59-1.43-.59-.52 0-1.04.2-1.43.59L10.3 9.45l-7.72 7.72c-.78.78-.78 2.05 0 2.83L4 21.41c.39.39.9.59 1.41.59.51 0 1.02-.2 1.41-.59l7.78-7.78 2.81-2.81c.8-.78.8-2.07 0-2.86zM5.41 20L4 18.59l7.72-7.72 1.47 1.35L5.41 20z\"/>\n",
              "  </svg>\n",
              "      </button>\n",
              "      \n",
              "  <style>\n",
              "    .colab-df-container {\n",
              "      display:flex;\n",
              "      flex-wrap:wrap;\n",
              "      gap: 12px;\n",
              "    }\n",
              "\n",
              "    .colab-df-convert {\n",
              "      background-color: #E8F0FE;\n",
              "      border: none;\n",
              "      border-radius: 50%;\n",
              "      cursor: pointer;\n",
              "      display: none;\n",
              "      fill: #1967D2;\n",
              "      height: 32px;\n",
              "      padding: 0 0 0 0;\n",
              "      width: 32px;\n",
              "    }\n",
              "\n",
              "    .colab-df-convert:hover {\n",
              "      background-color: #E2EBFA;\n",
              "      box-shadow: 0px 1px 2px rgba(60, 64, 67, 0.3), 0px 1px 3px 1px rgba(60, 64, 67, 0.15);\n",
              "      fill: #174EA6;\n",
              "    }\n",
              "\n",
              "    [theme=dark] .colab-df-convert {\n",
              "      background-color: #3B4455;\n",
              "      fill: #D2E3FC;\n",
              "    }\n",
              "\n",
              "    [theme=dark] .colab-df-convert:hover {\n",
              "      background-color: #434B5C;\n",
              "      box-shadow: 0px 1px 3px 1px rgba(0, 0, 0, 0.15);\n",
              "      filter: drop-shadow(0px 1px 2px rgba(0, 0, 0, 0.3));\n",
              "      fill: #FFFFFF;\n",
              "    }\n",
              "  </style>\n",
              "\n",
              "      <script>\n",
              "        const buttonEl =\n",
              "          document.querySelector('#df-517a59c7-cc9c-4419-a0da-51fcff06969e button.colab-df-convert');\n",
              "        buttonEl.style.display =\n",
              "          google.colab.kernel.accessAllowed ? 'block' : 'none';\n",
              "\n",
              "        async function convertToInteractive(key) {\n",
              "          const element = document.querySelector('#df-517a59c7-cc9c-4419-a0da-51fcff06969e');\n",
              "          const dataTable =\n",
              "            await google.colab.kernel.invokeFunction('convertToInteractive',\n",
              "                                                     [key], {});\n",
              "          if (!dataTable) return;\n",
              "\n",
              "          const docLinkHtml = 'Like what you see? Visit the ' +\n",
              "            '<a target=\"_blank\" href=https://colab.research.google.com/notebooks/data_table.ipynb>data table notebook</a>'\n",
              "            + ' to learn more about interactive tables.';\n",
              "          element.innerHTML = '';\n",
              "          dataTable['output_type'] = 'display_data';\n",
              "          await google.colab.output.renderOutput(dataTable, element);\n",
              "          const docLink = document.createElement('div');\n",
              "          docLink.innerHTML = docLinkHtml;\n",
              "          element.appendChild(docLink);\n",
              "        }\n",
              "      </script>\n",
              "    </div>\n",
              "  </div>\n",
              "  "
            ],
            "text/plain": [
              "                     날짜         시가  ...         고가           거래량\n",
              "0   2021-12-13 23:00:00  4945000.0  ...  4945000.0   8853.696584\n",
              "1   2021-12-14 00:00:00  4895000.0  ...  4895000.0  13073.887138\n",
              "2   2021-12-14 01:00:00  4780000.0  ...  4819000.0   6186.154056\n",
              "3   2021-12-14 02:00:00  4786000.0  ...  4847000.0   1954.430176\n",
              "4   2021-12-14 03:00:00  4798000.0  ...  4806000.0    885.228120\n",
              "..                  ...        ...  ...        ...           ...\n",
              "995 2022-01-24 12:00:00  2981000.0  ...  3016000.0   2875.618364\n",
              "996 2022-01-24 13:00:00  3012000.0  ...  3021000.0   2172.792134\n",
              "997 2022-01-24 14:00:00  2982000.0  ...  2996000.0   2531.473787\n",
              "998 2022-01-24 15:00:00  2992000.0  ...  3006000.0   2398.052579\n",
              "999 2022-01-24 16:00:00  2990000.0  ...  2990000.0    682.742611\n",
              "\n",
              "[1000 rows x 6 columns]"
            ]
          },
          "metadata": {},
          "execution_count": 13
        }
      ]
    },
    {
      "cell_type": "code",
      "source": [
        "#float타입으로 coin변수에 해당력 코인 현재가격 출력\n",
        "print(pyupbit.get_current_price(coin))"
      ],
      "metadata": {
        "colab": {
          "base_uri": "https://localhost:8080/"
        },
        "id": "y5Udm9x3Gpix",
        "outputId": "25912905-0d00-4239-be71-34a64a5a085f"
      },
      "execution_count": 14,
      "outputs": [
        {
          "output_type": "stream",
          "name": "stdout",
          "text": [
            "2966000.0\n"
          ]
        }
      ]
    },
    {
      "cell_type": "code",
      "source": [
        "print(\"\\n\\n불러온 데이터 행 개수 :\",coinCount)\n",
        "print(\"\\n불러온 범위 :\\n\",dfUpbit.head(1),\"\\n\\n부터\\n\\n \",dfUpbit.tail(1),\"\\n\\n까지 불러옴\")"
      ],
      "metadata": {
        "colab": {
          "base_uri": "https://localhost:8080/"
        },
        "id": "vpkur8L4JP5I",
        "outputId": "e843984d-e907-4f94-d0b8-eed18d2e07c8"
      },
      "execution_count": 27,
      "outputs": [
        {
          "output_type": "stream",
          "name": "stdout",
          "text": [
            "\n",
            "\n",
            "불러온 데이터 행 개수 : 1000\n",
            "\n",
            "불러온 범위 :\n",
            "                           open       high  ...       volume         value\n",
            "2021-12-13 23:00:00  4945000.0  4945000.0  ...  8853.696584  4.331069e+10\n",
            "\n",
            "[1 rows x 6 columns] \n",
            "\n",
            "부터\n",
            "\n",
            "                            open       high  ...     volume         value\n",
            "2022-01-24 16:00:00  2990000.0  2990000.0  ...  855.07611  2.542226e+09\n",
            "\n",
            "[1 rows x 6 columns] \n",
            "\n",
            "까지 불러옴\n"
          ]
        }
      ]
    },
    {
      "cell_type": "code",
      "source": [
        "plt.xlabel('Time')\n",
        "plt.plot(data_predict['날짜'],data_predict['시가']) #그래프를 그릴 항목 설정\n",
        "plt.rcParams['figure.figsize'] = [20, 10] #그래프 사이즈 설정\n",
        "plt.title(coin)"
      ],
      "metadata": {
        "colab": {
          "base_uri": "https://localhost:8080/",
          "height": 314
        },
        "id": "ug7jG29gX-C4",
        "outputId": "0fc7496f-9dcc-41dd-f1de-4c8afa7ad978"
      },
      "execution_count": 28,
      "outputs": [
        {
          "output_type": "execute_result",
          "data": {
            "text/plain": [
              "Text(0.5, 1.0, 'KRW-ETH')"
            ]
          },
          "metadata": {},
          "execution_count": 28
        },
        {
          "output_type": "display_data",
          "data": {
            "image/png": "[encoded data removed]",
            "text/plain": [
              "<Figure size 432x288 with 1 Axes>"
            ]
          },
          "metadata": {
            "needs_background": "light"
          }
        }
      ]
    },
    {
      "cell_type": "markdown",
      "source": [
        "## **이동평균선 구하기**"
      ],
      "metadata": {
        "id": "NjomsTTx7S4R"
      }
    },
    {
      "cell_type": "code",
      "source": [
        "ma5 = dfUpbit['close'].rolling(window=5).mean()\n",
        "last_ma5 = ma5[-2]\n",
        "\n",
        "price = pyupbit.get_current_price(coin)"
      ],
      "metadata": {
        "id": "BWpN3mws7STT"
      },
      "execution_count": 38,
      "outputs": []
    },
    {
      "cell_type": "code",
      "source": [
        "if price > last_ma5:\n",
        "  print(\"상승장\")\n",
        "else:\n",
        "  print(\"하락장\")"
      ],
      "metadata": {
        "id": "piNgUK-E7huI",
        "outputId": "e08fcfda-3e06-4466-ebc2-e9c11224cede",
        "colab": {
          "base_uri": "https://localhost:8080/"
        }
      },
      "execution_count": 40,
      "outputs": [
        {
          "output_type": "stream",
          "name": "stdout",
          "text": [
            "하락장\n"
          ]
        }
      ]
    }
  ]
}