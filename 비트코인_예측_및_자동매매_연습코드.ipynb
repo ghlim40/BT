{
  "nbformat": 4,
  "nbformat_minor": 0,
  "metadata": {
    "colab": {
      "name": "비트코인 예측 및 자동매매 연습코드.ipynb",
      "provenance": [],
      "collapsed_sections": [],
      "authorship_tag": "ABX9TyMMdYj42xOvKH1MDusf2Qjn",
      "include_colab_link": true
    },
    "kernelspec": {
      "name": "python3",
      "display_name": "Python 3"
    },
    "language_info": {
      "name": "python"
    }
  },
  "cells": [
    {
      "cell_type": "markdown",
      "metadata": {
        "id": "view-in-github",
        "colab_type": "text"
      },
      "source": [
        "<a href=\"https://colab.research.google.com/github/ghlim40/BT/blob/main/%EB%B9%84%ED%8A%B8%EC%BD%94%EC%9D%B8_%EC%98%88%EC%B8%A1_%EB%B0%8F_%EC%9E%90%EB%8F%99%EB%A7%A4%EB%A7%A4_%EC%97%B0%EC%8A%B5%EC%BD%94%EB%93%9C.ipynb\" target=\"_parent\"><img src=\"https://colab.research.google.com/assets/colab-badge.svg\" alt=\"Open In Colab\"/></a>"
      ]
    },
    {
      "cell_type": "markdown",
      "source": [
        "## **필요한 모듈 설치 및 입력**"
      ],
      "metadata": {
        "id": "FilMfd6-M0Fo"
      }
    },
    {
      "cell_type": "code",
      "execution_count": 99,
      "metadata": {
        "id": "0cDo5QFTGKGc"
      },
      "outputs": [],
      "source": [
        "#!pip install pyjwt #pyubi록 설치를 위해 필요\n",
        "#!pip install pyupbit\n",
        "#!pip install pandas"
      ]
    },
    {
      "cell_type": "code",
      "source": [
        "import pyupbit\n",
        "import pandas\n",
        "import pandas as pd\n",
        "from datetime import datetime"
      ],
      "metadata": {
        "id": "IDGcnvmiGMx5"
      },
      "execution_count": 105,
      "outputs": []
    },
    {
      "cell_type": "markdown",
      "source": [
        "## **데이터를 가져올 코인 설정 및 범위 설정**"
      ],
      "metadata": {
        "id": "iAKEeFmiNDHv"
      }
    },
    {
      "cell_type": "code",
      "source": [
        "#KRW거래소에서 가져올수있는 코인 목록\n",
        "print(pyupbit.get_tickers(fiat=\"KRW\"))"
      ],
      "metadata": {
        "colab": {
          "base_uri": "https://localhost:8080/"
        },
        "id": "adAJTD8-GfwS",
        "outputId": "686d970a-8422-469f-dcbe-963a5a0b8c0e"
      },
      "execution_count": 101,
      "outputs": [
        {
          "output_type": "stream",
          "name": "stdout",
          "text": [
            "['KRW-BTC', 'KRW-ETH', 'KRW-NEO', 'KRW-MTL', 'KRW-LTC', 'KRW-XRP', 'KRW-ETC', 'KRW-OMG', 'KRW-SNT', 'KRW-WAVES', 'KRW-XEM', 'KRW-QTUM', 'KRW-LSK', 'KRW-STEEM', 'KRW-XLM', 'KRW-ARDR', 'KRW-ARK', 'KRW-STORJ', 'KRW-GRS', 'KRW-REP', 'KRW-ADA', 'KRW-SBD', 'KRW-POWR', 'KRW-BTG', 'KRW-ICX', 'KRW-EOS', 'KRW-TRX', 'KRW-SC', 'KRW-ONT', 'KRW-ZIL', 'KRW-POLY', 'KRW-ZRX', 'KRW-LOOM', 'KRW-BCH', 'KRW-BAT', 'KRW-IOST', 'KRW-RFR', 'KRW-CVC', 'KRW-IQ', 'KRW-IOTA', 'KRW-MFT', 'KRW-ONG', 'KRW-GAS', 'KRW-UPP', 'KRW-ELF', 'KRW-KNC', 'KRW-BSV', 'KRW-THETA', 'KRW-QKC', 'KRW-BTT', 'KRW-MOC', 'KRW-ENJ', 'KRW-TFUEL', 'KRW-MANA', 'KRW-ANKR', 'KRW-AERGO', 'KRW-ATOM', 'KRW-TT', 'KRW-CRE', 'KRW-MBL', 'KRW-WAXP', 'KRW-HBAR', 'KRW-MED', 'KRW-MLK', 'KRW-STPT', 'KRW-ORBS', 'KRW-VET', 'KRW-CHZ', 'KRW-STMX', 'KRW-DKA', 'KRW-HIVE', 'KRW-KAVA', 'KRW-AHT', 'KRW-LINK', 'KRW-XTZ', 'KRW-BORA', 'KRW-JST', 'KRW-CRO', 'KRW-TON', 'KRW-SXP', 'KRW-HUNT', 'KRW-PLA', 'KRW-DOT', 'KRW-SRM', 'KRW-MVL', 'KRW-STRAX', 'KRW-AQT', 'KRW-GLM', 'KRW-SSX', 'KRW-META', 'KRW-FCT2', 'KRW-CBK', 'KRW-SAND', 'KRW-HUM', 'KRW-DOGE', 'KRW-STRK', 'KRW-PUNDIX', 'KRW-FLOW', 'KRW-DAWN', 'KRW-AXS', 'KRW-STX', 'KRW-XEC', 'KRW-SOL', 'KRW-MATIC', 'KRW-NU', 'KRW-AAVE', 'KRW-1INCH', 'KRW-ALGO', 'KRW-NEAR', 'KRW-WEMIX']\n"
          ]
        }
      ]
    },
    {
      "cell_type": "code",
      "source": [
        "#가져오고자 하는 코인 이름\n",
        "coin = \"KRW-ETH\"\n",
        "\n",
        "#가져오고자 하는 코인의 주기\n",
        "#day/minute1/minute3/minute5/minute10/minute15/minute30/minute60/minute240/week/month\n",
        "coinInterval = \"minute60\"\n",
        "\n",
        "#현재 날짜 가져오기\n",
        "coinTime = datetime.today().strftime(\"%Y%m%d\")"
      ],
      "metadata": {
        "id": "mIlvNPN7ItPo"
      },
      "execution_count": 130,
      "outputs": []
    },
    {
      "cell_type": "code",
      "source": [
        "#float타입으로 coin변수에 해당력 코인 현재가격 출력\n",
        "print(pyupbit.get_current_price(coin))"
      ],
      "metadata": {
        "colab": {
          "base_uri": "https://localhost:8080/"
        },
        "id": "y5Udm9x3Gpix",
        "outputId": "ddb8d76c-15e7-43fc-a9ae-ef98e45700f7"
      },
      "execution_count": 131,
      "outputs": [
        {
          "output_type": "stream",
          "name": "stdout",
          "text": [
            "3827000.0\n"
          ]
        }
      ]
    },
    {
      "cell_type": "code",
      "source": [
        "#count <= 불러올 행의 개수, \n",
        "#to <= interval변수의 기준으로 한단위 전 값까지 가져옴 1min일 경우 1분전 1day일 경우 어제값\n",
        "dfUpbit = pyupbit.get_ohlcv(coin,count=1000,interval=coinInterval)\n",
        "dfUpbit_yesterday = pyupbit.get_ohlcv(coin,count=1,interval='day',to=coinTime)\n",
        "rowCount=len(dfUpbit)"
      ],
      "metadata": {
        "id": "PrweMiDLIs79"
      },
      "execution_count": 136,
      "outputs": []
    },
    {
      "cell_type": "code",
      "source": [
        "print(\"\\n\\n불러온 데이터 행 개수 :\",coinCount)\n",
        "print(\"\\n불러온 범위 :\\n\",dfUpbit.head(1),\"\\n\\n부터\\n\\n \",dfUpbit.tail(1),\"\\n\\n까지 불러옴\")"
      ],
      "metadata": {
        "colab": {
          "base_uri": "https://localhost:8080/"
        },
        "id": "vpkur8L4JP5I",
        "outputId": "9d1b1d9f-4ebb-465d-f550-58ee186f327a"
      },
      "execution_count": 138,
      "outputs": [
        {
          "output_type": "stream",
          "name": "stdout",
          "text": [
            "\n",
            "\n",
            "불러온 데이터 행 개수 : 1000\n",
            "\n",
            "불러온 범위 :\n",
            "                  open       high  ...       volume         value\n",
            "2021-12-08  5444000.0  5462000.0  ...  2338.164628  1.272072e+10\n",
            "\n",
            "[1 rows x 6 columns] \n",
            "\n",
            "부터\n",
            "\n",
            "                            open       high  ...       volume         value\n",
            "2022-01-18 17:00:00  3865000.0  3865000.0  ...  1141.570113  4.377787e+09\n",
            "\n",
            "[1 rows x 6 columns] \n",
            "\n",
            "까지 불러옴\n"
          ]
        }
      ]
    },
    {
      "cell_type": "code",
      "source": [
        "#데이터 프레임 한글로 번역\n",
        "df_predict = dfUpbit.reset_index()\n",
        "df_predict['날짜'] = df_predict['index']\n",
        "df_predict['시가'] = df_predict['open']\n",
        "df_predict['종가'] = df_predict['close']\n",
        "df_predict['저가'] = df_predict['low']\n",
        "df_predict['고가'] = df_predict['high']\n",
        "df_predict['거래량'] = df_predict['volume']\n",
        "data_predict = df_predict[['날짜','시가','종가','저가','고가','거래량']]\n",
        "data_predict"
      ],
      "metadata": {
        "id": "EEg5hJEDOtZ_"
      },
      "execution_count": null,
      "outputs": []
    },
    {
      "cell_type": "code",
      "source": [
        ""
      ],
      "metadata": {
        "id": "qiVOto4vPIlv"
      },
      "execution_count": null,
      "outputs": []
    }
  ]
}